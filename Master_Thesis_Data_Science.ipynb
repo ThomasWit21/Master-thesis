{
  "nbformat": 4,
  "nbformat_minor": 0,
  "metadata": {
    "colab": {
      "name": "Master Thesis Data Science",
      "provenance": [],
      "collapsed_sections": [],
      "mount_file_id": "1fgSEskGHwM6ulGivHQIxVUepGTarzvqx",
      "authorship_tag": "ABX9TyMmuRnjHYmVVxaVWKGvRxUB",
      "include_colab_link": true
    },
    "kernelspec": {
      "display_name": "Python 3",
      "name": "python3"
    }
  },
  "cells": [
    {
      "cell_type": "markdown",
      "metadata": {
        "id": "view-in-github",
        "colab_type": "text"
      },
      "source": [
        "<a href=\"https://colab.research.google.com/github/ThomasWit21/Master-thesis/blob/main/Master_Thesis_Data_Science.ipynb\" target=\"_parent\"><img src=\"https://colab.research.google.com/assets/colab-badge.svg\" alt=\"Open In Colab\"/></a>"
      ]
    },
    {
      "cell_type": "code",
      "metadata": {
        "id": "-y_rrzOdntQQ"
      },
      "source": [
        "#Importing the relevant packages\n",
        "import numpy as np \n",
        "import pandas as pd\n",
        "import matplotlib as plt\n",
        "import sklearn"
      ],
      "execution_count": null,
      "outputs": []
    },
    {
      "cell_type": "code",
      "metadata": {
        "id": "qHDrdt3rqEw8",
        "colab": {
          "base_uri": "https://localhost:8080/"
        },
        "outputId": "823cbbd9-643d-44d6-ed26-2b3640e8ea64"
      },
      "source": [
        "#Mounting drive\n",
        "from google.colab import drive\n",
        "drive.mount('/content/drive')"
      ],
      "execution_count": null,
      "outputs": [
        {
          "output_type": "stream",
          "text": [
            "Drive already mounted at /content/drive; to attempt to forcibly remount, call drive.mount(\"/content/drive\", force_remount=True).\n"
          ],
          "name": "stdout"
        }
      ]
    },
    {
      "cell_type": "code",
      "metadata": {
        "id": "zcsgoFbLnxgg"
      },
      "source": [
        "#Reading tweets\n",
        "tweets_df = pd.read_csv(\"/content/drive/My Drive/Tweets.csv\")"
      ],
      "execution_count": null,
      "outputs": []
    },
    {
      "cell_type": "code",
      "metadata": {
        "id": "aGU-ISudn1hD",
        "colab": {
          "base_uri": "https://localhost:8080/"
        },
        "outputId": "d830722f-e331-41b4-83e9-803ff4aefa47"
      },
      "source": [
        "#Information about dataset\n",
        "len(tweets_df)\n",
        "print(f\"data shape: {tweets_df.shape}\")\n",
        "tweets_df.info()\n"
      ],
      "execution_count": null,
      "outputs": [
        {
          "output_type": "stream",
          "text": [
            "data shape: (1385469, 12)\n",
            "<class 'pandas.core.frame.DataFrame'>\n",
            "RangeIndex: 1385469 entries, 0 to 1385468\n",
            "Data columns (total 12 columns):\n",
            " #   Column        Non-Null Count    Dtype  \n",
            "---  ------        --------------    -----  \n",
            " 0   text          1385469 non-null  object \n",
            " 1   tweet_id      1385469 non-null  int64  \n",
            " 2   nbr_retweet   1385469 non-null  int64  \n",
            " 3   nbr_favorite  1385469 non-null  int64  \n",
            " 4   nbr_reply     1385469 non-null  int64  \n",
            " 5   datetime      1385469 non-null  object \n",
            " 6   is_reply      1385469 non-null  bool   \n",
            " 7   is_retweet    1385469 non-null  bool   \n",
            " 8   hashtags      1385469 non-null  object \n",
            " 9   mentions      1385469 non-null  object \n",
            " 10  has_media     193579 non-null   float64\n",
            " 11  medias        193579 non-null   object \n",
            "dtypes: bool(2), float64(1), int64(4), object(5)\n",
            "memory usage: 108.3+ MB\n"
          ],
          "name": "stdout"
        }
      ]
    },
    {
      "cell_type": "code",
      "metadata": {
        "id": "dsHuGPtc34Ko"
      },
      "source": [
        "#Deleting all irrelevant columns\n",
        "tweets_df = tweets_df.drop([\"tweet_id\", \"nbr_retweet\", \"nbr_favorite\", \"nbr_reply\", \"is_reply\", \"is_retweet\", \"hashtags\", \"mentions\", \"has_media\", \"medias\"], axis = 1)"
      ],
      "execution_count": null,
      "outputs": []
    },
    {
      "cell_type": "code",
      "metadata": {
        "id": "eoMXw1-wrhug",
        "colab": {
          "base_uri": "https://localhost:8080/",
          "height": 142
        },
        "outputId": "76227f26-1327-4856-f938-fd1846dd2b86"
      },
      "source": [
        "##Is there any missing data?\n",
        "def missing_data(data):\n",
        "    total = data.isnull().sum()\n",
        "    percent = (data.isnull().sum()/data.isnull().count()*100)\n",
        "    tt = pd.concat([total, percent], axis=1, keys=['Total', 'Percent'])\n",
        "    types = []\n",
        "    for col in data.columns:\n",
        "        dtype = str(data[col].dtype)\n",
        "        types.append(dtype)\n",
        "    tt['Types'] = types\n",
        "    return(np.transpose(tt))\n",
        "missing_data(tweets_df)"
      ],
      "execution_count": null,
      "outputs": [
        {
          "output_type": "execute_result",
          "data": {
            "text/html": [
              "<div>\n",
              "<style scoped>\n",
              "    .dataframe tbody tr th:only-of-type {\n",
              "        vertical-align: middle;\n",
              "    }\n",
              "\n",
              "    .dataframe tbody tr th {\n",
              "        vertical-align: top;\n",
              "    }\n",
              "\n",
              "    .dataframe thead th {\n",
              "        text-align: right;\n",
              "    }\n",
              "</style>\n",
              "<table border=\"1\" class=\"dataframe\">\n",
              "  <thead>\n",
              "    <tr style=\"text-align: right;\">\n",
              "      <th></th>\n",
              "      <th>text</th>\n",
              "      <th>datetime</th>\n",
              "    </tr>\n",
              "  </thead>\n",
              "  <tbody>\n",
              "    <tr>\n",
              "      <th>Total</th>\n",
              "      <td>0</td>\n",
              "      <td>0</td>\n",
              "    </tr>\n",
              "    <tr>\n",
              "      <th>Percent</th>\n",
              "      <td>0</td>\n",
              "      <td>0</td>\n",
              "    </tr>\n",
              "    <tr>\n",
              "      <th>Types</th>\n",
              "      <td>object</td>\n",
              "      <td>object</td>\n",
              "    </tr>\n",
              "  </tbody>\n",
              "</table>\n",
              "</div>"
            ],
            "text/plain": [
              "           text datetime\n",
              "Total         0        0\n",
              "Percent       0        0\n",
              "Types    object   object"
            ]
          },
          "metadata": {
            "tags": []
          },
          "execution_count": 6
        }
      ]
    },
    {
      "cell_type": "markdown",
      "metadata": {
        "id": "DgSEZJYlrid6"
      },
      "source": [
        "Preprocessing"
      ]
    },
    {
      "cell_type": "code",
      "metadata": {
        "id": "QFntgqX5t-Nb"
      },
      "source": [
        "#Removing the punctuation\n",
        "import string\n",
        "import re\n",
        "string.punctuation\n",
        "\n",
        "def remove_punct(text):\n",
        "    text  = \"\".join([char for char in text if char not in string.punctuation])\n",
        "    text = re.sub('[0-9]+http\\S?:\\/\\/.*[\\r\\n]*', '', text)\n",
        "    return text\n",
        "\n",
        "tweets_df['Tweet_punct'] = tweets_df['text'].apply(lambda x: remove_punct(x))"
      ],
      "execution_count": null,
      "outputs": []
    },
    {
      "cell_type": "code",
      "metadata": {
        "id": "rlvjhN6YisW8"
      },
      "source": [
        "##Tokenize the tweet texts and remove upper case letter\n",
        "from nltk.tokenize import TweetTokenizer\n",
        "tt = TweetTokenizer()\n",
        "tweets_df['tokenized_tweets'] = tweets_df['Tweet_punct'].apply(lambda x: tt.tokenize(x.lower()))"
      ],
      "execution_count": null,
      "outputs": []
    },
    {
      "cell_type": "code",
      "metadata": {
        "id": "xMryrnxUxYal",
        "colab": {
          "base_uri": "https://localhost:8080/"
        },
        "outputId": "bfb5bfcf-1427-4e0d-8a61-f05db717fd35"
      },
      "source": [
        "#Removing English stopwords\n",
        "import nltk\n",
        "from nltk.corpus import stopwords\n",
        "nltk.download('stopwords')\n",
        "stopword = nltk.corpus.stopwords.words('english')\n",
        "def remove_stopwords(text):\n",
        "    text = [word for word in text if word not in stopword]\n",
        "    return text\n",
        "    \n",
        "tweets_df['Tweet_nonstop'] = tweets_df['tokenized_tweets'].apply(lambda x: remove_stopwords(x))"
      ],
      "execution_count": null,
      "outputs": [
        {
          "output_type": "stream",
          "text": [
            "[nltk_data] Downloading package stopwords to /root/nltk_data...\n",
            "[nltk_data]   Unzipping corpora/stopwords.zip.\n"
          ],
          "name": "stdout"
        }
      ]
    },
    {
      "cell_type": "code",
      "metadata": {
        "id": "AMPYWngCvfqi"
      },
      "source": [
        "##Sentiment analysis using VADER\n",
        "#import nltk\n",
        "#nltk.download('vader_lexicon')\n",
        "#from nltk.sentiment.vader import SentimentIntensityAnalyzer\n",
        "\n",
        "#sentiment = []\n",
        "#def analyze_sentiment_vader_lexicon(review, \n",
        "#                                    threshold=0.1,\n",
        "#                                    verbose=False):    \n",
        "    # analyze the sentiment for review\n",
        "#    analyzer = SentimentIntensityAnalyzer()\n",
        "#    scores = analyzer.polarity_scores(review)\n",
        "#    agg_score = scores['compound']\n",
        "#    final = round(agg_score, 2)\n",
        "#    sentiment.append(final)\n",
        "\n",
        "#for text in tweets_df.text:\n",
        "#  analyze_sentiment_vader_lexicon(text, threshold=0.4, verbose=True)\n",
        "\n",
        "#import pandas\n",
        "#df = pandas.DataFrame(data={\"col1\": sentiment})\n",
        "#df.to_csv(\"./file.csv\", sep=',',index=False)\n",
        "\n",
        "sentiment = pd.read_csv(\"/content/drive/My Drive/SentimentScores.csv\")\n",
        "tweets_df['Sentiment Score'] = pd.DataFrame(sentiment)"
      ],
      "execution_count": null,
      "outputs": []
    },
    {
      "cell_type": "code",
      "metadata": {
        "id": "bVS4pPN9pgpD"
      },
      "source": [
        "#pip install afinn"
      ],
      "execution_count": null,
      "outputs": []
    },
    {
      "cell_type": "code",
      "metadata": {
        "id": "PrOUsJoGAjYf"
      },
      "source": [
        "##Loading in the AFINN Lexicon\n",
        "#from afinn import Afinn\n",
        "#afinn = Afinn()\n",
        "#def sentiment_score(text):\n",
        "#  sentiment_scores = [afinn.score(tweet_nonstop) for tweet_nonstop in tweets_df]   \n",
        "#  return sentiment_scores\n",
        "    \n",
        "#tweets_df['Afinn_sentiment'] = tweets_df['Tweet_nonstop'].apply(lambda x: sentiment_score(x))"
      ],
      "execution_count": null,
      "outputs": []
    },
    {
      "cell_type": "code",
      "metadata": {
        "id": "gwIRxMOZZ5_y"
      },
      "source": [
        "##Rounding the sentiments\n",
        "def round_sentiment(x):\n",
        "    if x >= 0.0 and x < 0.04:\n",
        "      return 0\n",
        "    elif x >= 0.04:\n",
        "      return 1\n",
        "    elif x < 0.0:\n",
        "      return -1\n",
        "\n",
        "rounded = []\n",
        "for x in tweets_df['Sentiment Score']:\n",
        "  rounded.append(round_sentiment(x))\n",
        "\n",
        "tweets_df['Sentiment rounded'] = rounded"
      ],
      "execution_count": null,
      "outputs": []
    },
    {
      "cell_type": "code",
      "metadata": {
        "id": "K7zw-9vqVtut"
      },
      "source": [
        "##Splitting the time and date\n",
        "days = [item.split(\" \")[0] for item in tweets_df['datetime'].values]\n",
        "tweets_df['days'] = days"
      ],
      "execution_count": null,
      "outputs": []
    },
    {
      "cell_type": "code",
      "metadata": {
        "id": "6D8SCATHbl8i"
      },
      "source": [
        "##Summarize amount of tweets and the mean sentiment per day\n",
        "mean = tweets_df.groupby(tweets_df['days']) \\\n",
        "       .agg(count=('text', 'size'), mean = ('Sentiment rounded', 'mean')) \\\n",
        "       .reset_index()"
      ],
      "execution_count": null,
      "outputs": []
    },
    {
      "cell_type": "code",
      "metadata": {
        "id": "apwL3cfAfFot",
        "colab": {
          "base_uri": "https://localhost:8080/",
          "height": 295
        },
        "outputId": "3275a7f8-4f5c-4a54-ba6a-13d9449c4503"
      },
      "source": [
        "#Count of tweets per day\n",
        "mean_scores = mean.unstack()\n",
        "mean_scores = mean_scores.xs('count')\n",
        "# Plot a bar chart with pandas\n",
        "plt.pyplot.xlabel('Day')\n",
        "plt.pyplot.ylabel('Amount')\n",
        "plt.pyplot.title('Amount of COVID-19 Tweets per day')\n",
        "x = np.array([0,20,40,60,80])\n",
        "xticks = ['2020-02-01', '2020-02-21', '2020-03-12', '2020-04-01', '2020-04-20']\n",
        "plt.pyplot.xticks(x, xticks, rotation = 45)\n",
        "mean_scores.plot(kind = 'line', x = 'days', color = 'black')\n",
        "plt.pyplot.grid()"
      ],
      "execution_count": null,
      "outputs": [
        {
          "output_type": "display_data",
          "data": {
            "image/png": "[encoded data removed]",
            "text/plain": [
              "<Figure size 432x288 with 1 Axes>"
            ]
          },
          "metadata": {
            "tags": [],
            "needs_background": "light"
          }
        }
      ]
    },
    {
      "cell_type": "code",
      "metadata": {
        "id": "uGCd7Ky-OBX5",
        "colab": {
          "base_uri": "https://localhost:8080/",
          "height": 295
        },
        "outputId": "bf8e474a-f82b-4df6-b5a3-154410213d78"
      },
      "source": [
        "#Count of sentiment score per day\n",
        "plt.pyplot.xlabel('Days')\n",
        "plt.pyplot.ylabel('Sentiment rounded')\n",
        "plt.pyplot.title('Sentiment Score of COVID-19 Tweets per day')\n",
        "x = np.array([0,20,40,60,80])\n",
        "xticks = ['2020-02-01', '2020-02-21', '2020-03-12', '2020-04-01', '2020-04-20']\n",
        "plt.pyplot.xticks(x, xticks, rotation = 45)\n",
        "mean['mean'].plot(kind = 'line', x = 'days', color = 'black')\n",
        "plt.pyplot.grid()"
      ],
      "execution_count": null,
      "outputs": [
        {
          "output_type": "display_data",
          "data": {
            "image/png": "[encoded data removed]",
            "text/plain": [
              "<Figure size 432x288 with 1 Axes>"
            ]
          },
          "metadata": {
            "tags": [],
            "needs_background": "light"
          }
        }
      ]
    },
    {
      "cell_type": "code",
      "metadata": {
        "id": "Q87ldjSbozPs"
      },
      "source": [
        "DJIA = pd.read_csv(\"/content/drive/My Drive/DJIA Concave filled.csv\", sep = ';')"
      ],
      "execution_count": null,
      "outputs": []
    },
    {
      "cell_type": "code",
      "metadata": {
        "id": "aVxgOoKDtoKB",
        "colab": {
          "base_uri": "https://localhost:8080/",
          "height": 364
        },
        "outputId": "71465582-792e-43c0-bb99-ea3cab745222"
      },
      "source": [
        "from matplotlib.ticker import ScalarFormatter\n",
        "\n",
        "fig = plt.pyplot.figure(figsize=(10,5))\n",
        "ax = fig.add_subplot(111)\n",
        "ax.plot(DJIA['Date'],DJIA['Close'], label='Values')\n",
        "ax.set(title='DJIA Closing Value Over Time', xlabel='Date', ylabel='DJIA Value')\n",
        "fig.tight_layout()\n",
        "fig.autofmt_xdate()\n",
        "plt.pyplot.xticks(np.arange(0, len(DJIA['Date'])+1, 7))\n",
        "y_formatter = ScalarFormatter(useOffset=False)\n",
        "ax.yaxis.set_major_formatter(y_formatter)\n",
        "locs,labels = plt.pyplot.yticks()\n",
        "plt.pyplot.yticks(locs, map(lambda x: \"%.1f\" % x, locs*1e0))\n",
        "plt.pyplot.show()"
      ],
      "execution_count": null,
      "outputs": [
        {
          "output_type": "display_data",
          "data": {
            "image/png": "[encoded data removed]",
            "text/plain": [
              "<Figure size 720x360 with 1 Axes>"
            ]
          },
          "metadata": {
            "tags": [],
            "needs_background": "light"
          }
        }
      ]
    },
    {
      "cell_type": "code",
      "metadata": {
        "id": "Kmp7bRsCtuOs",
        "colab": {
          "base_uri": "https://localhost:8080/",
          "height": 404
        },
        "outputId": "24462d3c-5365-4b7e-ed34-c512117a2914"
      },
      "source": [
        "#Checking the density of the Sentiment Scores (Note: if 0 sentiment not included, the average would be much higher)\n",
        "import seaborn as sns\n",
        "fig = plt.pyplot.figure(figsize=(10,5))\n",
        "ax = fig.add_subplot(111)\n",
        "ax.set(title = 'Density of Sentiment Scores')\n",
        "sns.distplot(tweets_df['Sentiment Score'], bins=15, ax=ax, color = 'k')\n",
        "plt.pyplot.show()"
      ],
      "execution_count": null,
      "outputs": [
        {
          "output_type": "stream",
          "text": [
            "/usr/local/lib/python3.6/dist-packages/seaborn/distributions.py:2551: FutureWarning: `distplot` is a deprecated function and will be removed in a future version. Please adapt your code to use either `displot` (a figure-level function with similar flexibility) or `histplot` (an axes-level function for histograms).\n",
            "  warnings.warn(msg, FutureWarning)\n"
          ],
          "name": "stderr"
        },
        {
          "output_type": "display_data",
          "data": {
            "image/png": "[encoded data removed]",
            "text/plain": [
              "<Figure size 720x360 with 1 Axes>"
            ]
          },
          "metadata": {
            "tags": [],
            "needs_background": "light"
          }
        }
      ]
    },
    {
      "cell_type": "code",
      "metadata": {
        "id": "46MT9RzihtdF",
        "colab": {
          "base_uri": "https://localhost:8080/",
          "height": 404
        },
        "outputId": "935a5ea0-014f-4852-9927-350b1a094791"
      },
      "source": [
        "#Checking the density of the Sentiment Scores (Note: if 0 sentiment not included, the average would be much higher)\n",
        "import seaborn as sns\n",
        "fig = plt.pyplot.figure(figsize=(10,5))\n",
        "ax = fig.add_subplot(111)\n",
        "ax.set(title = 'Density of Rounded Sentiment Scores')\n",
        "sns.distplot(tweets_df['Sentiment rounded'], bins=15, ax=ax, color = 'k')\n",
        "plt.pyplot.show()"
      ],
      "execution_count": null,
      "outputs": [
        {
          "output_type": "stream",
          "text": [
            "/usr/local/lib/python3.6/dist-packages/seaborn/distributions.py:2551: FutureWarning: `distplot` is a deprecated function and will be removed in a future version. Please adapt your code to use either `displot` (a figure-level function with similar flexibility) or `histplot` (an axes-level function for histograms).\n",
            "  warnings.warn(msg, FutureWarning)\n"
          ],
          "name": "stderr"
        },
        {
          "output_type": "display_data",
          "data": {
            "image/png": "[encoded data removed]",
            "text/plain": [
              "<Figure size 720x360 with 1 Axes>"
            ]
          },
          "metadata": {
            "tags": [],
            "needs_background": "light"
          }
        }
      ]
    },
    {
      "cell_type": "markdown",
      "metadata": {
        "id": "LTxd7X3WoL4L"
      },
      "source": [
        "**Checking VADER against labeled tweets**"
      ]
    },
    {
      "cell_type": "code",
      "metadata": {
        "id": "i6O2k6PWtlLR"
      },
      "source": [
        "#Vadercheck = pd.read_csv(\"/content/drive/My Drive/VADERcheck.csv\", encoding = \"ISO-8859-1\")\n",
        "#Vadercheck = Vadercheck.drop(['1467810369', 'Mon Apr 06 22:19:45 PDT 2009', 'NO_QUERY', '_TheSpecialOne_'], axis = 1)\n",
        "#Vadercheck = Vadercheck.rename(columns = {'0' : 'Sentiment Score', \"@switchfoot http://twitpic.com/2y1zl - Awww, that's a bummer.  You shoulda got David Carr of Third Day to do it. ;D\" : \"Text\"})\n",
        "#Samplecheck = Vadercheck.sample(n=100000)"
      ],
      "execution_count": null,
      "outputs": []
    },
    {
      "cell_type": "code",
      "metadata": {
        "id": "V-ocQ27pDojN"
      },
      "source": [
        "#import nltk\n",
        "#nltk.download('vader_lexicon')\n",
        "#from nltk.sentiment.vader import SentimentIntensityAnalyzer\n",
        "\n",
        "#Sentimentcheck = []\n",
        "#def analyze_sentiment_vader_lexicon(review, \n",
        "#                                    threshold=0.1,\n",
        "#                                    verbose=False):    \n",
        "    # analyze the sentiment for review\n",
        "#    analyzer = SentimentIntensityAnalyzer()\n",
        "#    scores = analyzer.polarity_scores(review)\n",
        "#    agg_score = scores['compound']\n",
        "#    final = round(agg_score, 2)\n",
        "#    Sentimentcheck.append(final)\n",
        "\n",
        "#for text in Samplecheck.Text:\n",
        "#  analyze_sentiment_vader_lexicon(text, threshold=0.4, verbose=True)\n",
        "\n",
        "#Samplecheck['Checked'] = Sentimentcheck\n",
        "Samplecheck = pd.read_csv(\"/content/drive/My Drive/Vader checks.csv\")\n"
      ],
      "execution_count": null,
      "outputs": []
    },
    {
      "cell_type": "code",
      "metadata": {
        "id": "eRc_j6xdLb_6"
      },
      "source": [
        "#Samplecheck.to_csv(\"./file.csv\", sep=',',index=False)"
      ],
      "execution_count": null,
      "outputs": []
    },
    {
      "cell_type": "code",
      "metadata": {
        "id": "wMFRFOkgSaQI"
      },
      "source": [
        "def round_vader_sentiment(x):\n",
        "    if x >= 0.0 and x <= 0.04:\n",
        "      return 2\n",
        "    elif x > 0.04:\n",
        "      return 4\n",
        "    elif x < 0.00:\n",
        "      return 0\n",
        "\n",
        "roundedVADER = []\n",
        "for x in Samplecheck['Checked']:\n",
        "  roundedVADER.append(round_vader_sentiment(x))"
      ],
      "execution_count": null,
      "outputs": []
    },
    {
      "cell_type": "code",
      "metadata": {
        "id": "X59JhWHXSdK1"
      },
      "source": [
        "Samplecheck['Checkedrounded'] = roundedVADER"
      ],
      "execution_count": null,
      "outputs": []
    },
    {
      "cell_type": "code",
      "metadata": {
        "id": "JRA5Piu1Tn7B"
      },
      "source": [
        "y_pred = Samplecheck['Checkedrounded']\n",
        "y_test = Samplecheck['Sentiment Score']  "
      ],
      "execution_count": null,
      "outputs": []
    },
    {
      "cell_type": "code",
      "metadata": {
        "id": "gcmHkds1UYdX",
        "colab": {
          "base_uri": "https://localhost:8080/"
        },
        "outputId": "cf3db7ab-167a-4d61-a96c-65d71b5ac5df"
      },
      "source": [
        "from sklearn.metrics import confusion_matrix\n",
        "confusion_matrix(y_pred, y_test)"
      ],
      "execution_count": null,
      "outputs": [
        {
          "output_type": "execute_result",
          "data": {
            "text/plain": [
              "array([[34388,     0, 19060],\n",
              "       [  277,     0,   112],\n",
              "       [15653,     0, 30510]])"
            ]
          },
          "metadata": {
            "tags": []
          },
          "execution_count": 28
        }
      ]
    },
    {
      "cell_type": "code",
      "metadata": {
        "id": "k9PqiNK7U6Fl",
        "colab": {
          "base_uri": "https://localhost:8080/"
        },
        "outputId": "2e9be8b3-cc40-4eb5-e696-9b5a036aa2d8"
      },
      "source": [
        "from sklearn.metrics import accuracy_score\n",
        "accuracy_score(y_pred, y_test)"
      ],
      "execution_count": null,
      "outputs": [
        {
          "output_type": "execute_result",
          "data": {
            "text/plain": [
              "0.64898"
            ]
          },
          "metadata": {
            "tags": []
          },
          "execution_count": 29
        }
      ]
    },
    {
      "cell_type": "markdown",
      "metadata": {
        "id": "VdlJKFdLnYgQ"
      },
      "source": [
        "**Results Section**"
      ]
    },
    {
      "cell_type": "markdown",
      "metadata": {
        "id": "oNzmUJP3F59q"
      },
      "source": [
        "Normalizing and Granger Causality test\n"
      ]
    },
    {
      "cell_type": "code",
      "metadata": {
        "id": "7ormLU1PaiGs"
      },
      "source": [
        "def z_score(df):\n",
        "    df_std = df.copy()\n",
        "    for column in df_std.columns:\n",
        "        df_std[column] = (df_std[column] - df_std[column].mean()) / df_std[column].std()\n",
        "        \n",
        "    return df_std"
      ],
      "execution_count": null,
      "outputs": []
    },
    {
      "cell_type": "code",
      "metadata": {
        "id": "16MuwO9dqwHA"
      },
      "source": [
        "mean['DJIA'] = DJIA['Difference']"
      ],
      "execution_count": null,
      "outputs": []
    },
    {
      "cell_type": "code",
      "metadata": {
        "id": "PJQOWqLyan2v"
      },
      "source": [
        "#Standardizing\n",
        "mean_standardized = z_score(pd.DataFrame(mean['mean']))\n",
        "mean['Mean_STAND'] = mean_standardized\n",
        "\n",
        "DJIA_difference_standardized = z_score(pd.DataFrame(mean['DJIA']))\n",
        "mean['DJIA_DIF_STAND'] = DJIA_difference_standardized\n",
        "\n",
        "mean['DJIA_Close_stand'] = z_score(pd.DataFrame(DJIA['Close']))\n"
      ],
      "execution_count": null,
      "outputs": []
    },
    {
      "cell_type": "code",
      "metadata": {
        "id": "Tmo22AH-WOXi",
        "colab": {
          "base_uri": "https://localhost:8080/",
          "height": 487
        },
        "outputId": "72db32e0-0724-40d6-e96f-34f5b38edc55"
      },
      "source": [
        "#Visualizing the relationship Sentiment and Closing Value\n",
        "ax = sns.lineplot(x=\"days\", y=\"Mean_STAND\", data=mean, color = 'k', label = 'Mean Sentiment')\n",
        "ax1 = sns.lineplot(x=\"days\", y='DJIA_Close_stand', data=mean, label = \"DJIA Closing Values\")\n",
        "x = np.array([0,20,40,60,80])\n",
        "xticks = ['2020-02-01', '2020-02-21', '2020-03-12', '2020-04-01', '2020-04-20']\n",
        "plt.pyplot.xticks(x, xticks, rotation = 45)"
      ],
      "execution_count": null,
      "outputs": [
        {
          "output_type": "execute_result",
          "data": {
            "text/plain": [
              "([<matplotlib.axis.XTick at 0x7f0e3b725438>,\n",
              "  <matplotlib.axis.XTick at 0x7f0e3b725400>,\n",
              "  <matplotlib.axis.XTick at 0x7f0e3c41c5c0>,\n",
              "  <matplotlib.axis.XTick at 0x7f0e3b6dc3c8>,\n",
              "  <matplotlib.axis.XTick at 0x7f0e3b6dc7f0>],\n",
              " [Text(0, 0, '2020-02-01'),\n",
              "  Text(0, 0, '2020-02-21'),\n",
              "  Text(0, 0, '2020-03-12'),\n",
              "  Text(0, 0, '2020-04-01'),\n",
              "  Text(0, 0, '2020-04-20')])"
            ]
          },
          "metadata": {
            "tags": []
          },
          "execution_count": 33
        },
        {
          "output_type": "display_data",
          "data": {
            "image/png": "[encoded data removed]",
            "text/plain": [
              "<Figure size 432x288 with 1 Axes>"
            ]
          },
          "metadata": {
            "tags": [],
            "needs_background": "light"
          }
        }
      ]
    },
    {
      "cell_type": "code",
      "metadata": {
        "id": "dgpyzu9bjmDF",
        "colab": {
          "base_uri": "https://localhost:8080/",
          "height": 487
        },
        "outputId": "a1a16ed8-b8d5-443f-e3cf-98e150d5dc0b"
      },
      "source": [
        "#Visualizing the relationship Sentiment and Difference Value\n",
        "ax = sns.lineplot(x=\"days\", y=\"Mean_STAND\", data=mean, color = 'k', label = 'Mean Sentiment')\n",
        "ax1 = sns.lineplot(x=\"days\", y='DJIA_DIF_STAND', data=mean, label = \"DJIA Daily Difference\")\n",
        "x = np.array([0,20,40,60,80])\n",
        "xticks = ['2020-02-01', '2020-02-21', '2020-03-12', '2020-04-01', '2020-04-20']\n",
        "plt.pyplot.xticks(x, xticks, rotation = 45)"
      ],
      "execution_count": null,
      "outputs": [
        {
          "output_type": "execute_result",
          "data": {
            "text/plain": [
              "([<matplotlib.axis.XTick at 0x7f0e3b634860>,\n",
              "  <matplotlib.axis.XTick at 0x7f0e3b634e48>,\n",
              "  <matplotlib.axis.XTick at 0x7f0e3b6c6940>,\n",
              "  <matplotlib.axis.XTick at 0x7f0e3b57a400>,\n",
              "  <matplotlib.axis.XTick at 0x7f0e3b57a860>],\n",
              " [Text(0, 0, '2020-02-01'),\n",
              "  Text(0, 0, '2020-02-21'),\n",
              "  Text(0, 0, '2020-03-12'),\n",
              "  Text(0, 0, '2020-04-01'),\n",
              "  Text(0, 0, '2020-04-20')])"
            ]
          },
          "metadata": {
            "tags": []
          },
          "execution_count": 34
        },
        {
          "output_type": "display_data",
          "data": {
            "image/png": "[encoded data removed]",
            "text/plain": [
              "<Figure size 432x288 with 1 Axes>"
            ]
          },
          "metadata": {
            "tags": [],
            "needs_background": "light"
          }
        }
      ]
    },
    {
      "cell_type": "code",
      "metadata": {
        "id": "u82RYaDppqnM"
      },
      "source": [
        "Listy = []\n",
        "for x in mean['DJIA']:\n",
        "  if x > 0:\n",
        "    Listy.append(1)\n",
        "  else:\n",
        "    Listy.append(0)\n",
        "mean['Target'] = Listy"
      ],
      "execution_count": null,
      "outputs": []
    },
    {
      "cell_type": "code",
      "metadata": {
        "id": "jGBzwZQrAazM",
        "colab": {
          "base_uri": "https://localhost:8080/"
        },
        "outputId": "82d1215d-f3dc-4485-e129-4d5013b7cc83"
      },
      "source": [
        "#Granger causality test\n",
        "from statsmodels.tsa.stattools import grangercausalitytests\n",
        "res = grangercausalitytests(mean[['mean', 'Target']], maxlag=15)\\"
      ],
      "execution_count": null,
      "outputs": [
        {
          "output_type": "stream",
          "text": [
            "/usr/local/lib/python3.6/dist-packages/statsmodels/tools/_testing.py:19: FutureWarning: pandas.util.testing is deprecated. Use the functions in the public API at pandas.testing instead.\n",
            "  import pandas.util.testing as tm\n"
          ],
          "name": "stderr"
        },
        {
          "output_type": "stream",
          "text": [
            "\n",
            "Granger Causality\n",
            "number of lags (no zero) 1\n",
            "ssr based F test:         F=0.1902  , p=0.6639  , df_denom=85, df_num=1\n",
            "ssr based chi2 test:   chi2=0.1969  , p=0.6572  , df=1\n",
            "likelihood ratio test: chi2=0.1967  , p=0.6574  , df=1\n",
            "parameter F test:         F=0.1902  , p=0.6639  , df_denom=85, df_num=1\n",
            "\n",
            "Granger Causality\n",
            "number of lags (no zero) 2\n",
            "ssr based F test:         F=0.7898  , p=0.4573  , df_denom=82, df_num=2\n",
            "ssr based chi2 test:   chi2=1.6760  , p=0.4326  , df=2\n",
            "likelihood ratio test: chi2=1.6600  , p=0.4360  , df=2\n",
            "parameter F test:         F=0.7898  , p=0.4573  , df_denom=82, df_num=2\n",
            "\n",
            "Granger Causality\n",
            "number of lags (no zero) 3\n",
            "ssr based F test:         F=0.6677  , p=0.5744  , df_denom=79, df_num=3\n",
            "ssr based chi2 test:   chi2=2.1805  , p=0.5358  , df=3\n",
            "likelihood ratio test: chi2=2.1533  , p=0.5412  , df=3\n",
            "parameter F test:         F=0.6677  , p=0.5744  , df_denom=79, df_num=3\n",
            "\n",
            "Granger Causality\n",
            "number of lags (no zero) 4\n",
            "ssr based F test:         F=1.2583  , p=0.2939  , df_denom=76, df_num=4\n",
            "ssr based chi2 test:   chi2=5.6290  , p=0.2286  , df=4\n",
            "likelihood ratio test: chi2=5.4505  , p=0.2441  , df=4\n",
            "parameter F test:         F=1.2583  , p=0.2939  , df_denom=76, df_num=4\n",
            "\n",
            "Granger Causality\n",
            "number of lags (no zero) 5\n",
            "ssr based F test:         F=0.8082  , p=0.5475  , df_denom=73, df_num=5\n",
            "ssr based chi2 test:   chi2=4.6500  , p=0.4601  , df=5\n",
            "likelihood ratio test: chi2=4.5258  , p=0.4764  , df=5\n",
            "parameter F test:         F=0.8082  , p=0.5475  , df_denom=73, df_num=5\n",
            "\n",
            "Granger Causality\n",
            "number of lags (no zero) 6\n",
            "ssr based F test:         F=0.7802  , p=0.5883  , df_denom=70, df_num=6\n",
            "ssr based chi2 test:   chi2=5.5505  , p=0.4754  , df=6\n",
            "likelihood ratio test: chi2=5.3727  , p=0.4970  , df=6\n",
            "parameter F test:         F=0.7802  , p=0.5883  , df_denom=70, df_num=6\n",
            "\n",
            "Granger Causality\n",
            "number of lags (no zero) 7\n",
            "ssr based F test:         F=0.5411  , p=0.8003  , df_denom=67, df_num=7\n",
            "ssr based chi2 test:   chi2=4.6357  , p=0.7043  , df=7\n",
            "likelihood ratio test: chi2=4.5094  , p=0.7196  , df=7\n",
            "parameter F test:         F=0.5411  , p=0.8003  , df_denom=67, df_num=7\n",
            "\n",
            "Granger Causality\n",
            "number of lags (no zero) 8\n",
            "ssr based F test:         F=0.5136  , p=0.8419  , df_denom=64, df_num=8\n",
            "ssr based chi2 test:   chi2=5.1998  , p=0.7360  , df=8\n",
            "likelihood ratio test: chi2=5.0397  , p=0.7533  , df=8\n",
            "parameter F test:         F=0.5136  , p=0.8419  , df_denom=64, df_num=8\n",
            "\n",
            "Granger Causality\n",
            "number of lags (no zero) 9\n",
            "ssr based F test:         F=0.5848  , p=0.8045  , df_denom=61, df_num=9\n",
            "ssr based chi2 test:   chi2=6.9026  , p=0.6473  , df=9\n",
            "likelihood ratio test: chi2=6.6209  , p=0.6765  , df=9\n",
            "parameter F test:         F=0.5848  , p=0.8045  , df_denom=61, df_num=9\n",
            "\n",
            "Granger Causality\n",
            "number of lags (no zero) 10\n",
            "ssr based F test:         F=0.4931  , p=0.8877  , df_denom=58, df_num=10\n",
            "ssr based chi2 test:   chi2=6.7160  , p=0.7520  , df=10\n",
            "likelihood ratio test: chi2=6.4457  , p=0.7765  , df=10\n",
            "parameter F test:         F=0.4931  , p=0.8877  , df_denom=58, df_num=10\n",
            "\n",
            "Granger Causality\n",
            "number of lags (no zero) 11\n",
            "ssr based F test:         F=0.3803  , p=0.9584  , df_denom=55, df_num=11\n",
            "ssr based chi2 test:   chi2=5.9325  , p=0.8778  , df=11\n",
            "likelihood ratio test: chi2=5.7177  , p=0.8915  , df=11\n",
            "parameter F test:         F=0.3803  , p=0.9584  , df_denom=55, df_num=11\n",
            "\n",
            "Granger Causality\n",
            "number of lags (no zero) 12\n",
            "ssr based F test:         F=0.3635  , p=0.9705  , df_denom=52, df_num=12\n",
            "ssr based chi2 test:   chi2=6.4599  , p=0.8911  , df=12\n",
            "likelihood ratio test: chi2=6.2032  , p=0.9055  , df=12\n",
            "parameter F test:         F=0.3635  , p=0.9705  , df_denom=52, df_num=12\n",
            "\n",
            "Granger Causality\n",
            "number of lags (no zero) 13\n",
            "ssr based F test:         F=0.3944  , p=0.9651  , df_denom=49, df_num=13\n",
            "ssr based chi2 test:   chi2=7.9529  , p=0.8467  , df=13\n",
            "likelihood ratio test: chi2=7.5637  , p=0.8708  , df=13\n",
            "parameter F test:         F=0.3944  , p=0.9651  , df_denom=49, df_num=13\n",
            "\n",
            "Granger Causality\n",
            "number of lags (no zero) 14\n",
            "ssr based F test:         F=0.3351  , p=0.9854  , df_denom=46, df_num=14\n",
            "ssr based chi2 test:   chi2=7.6481  , p=0.9068  , df=14\n",
            "likelihood ratio test: chi2=7.2828  , p=0.9233  , df=14\n",
            "parameter F test:         F=0.3351  , p=0.9854  , df_denom=46, df_num=14\n",
            "\n",
            "Granger Causality\n",
            "number of lags (no zero) 15\n",
            "ssr based F test:         F=0.3172  , p=0.9906  , df_denom=43, df_num=15\n",
            "ssr based chi2 test:   chi2=8.1880  , p=0.9160  , df=15\n",
            "likelihood ratio test: chi2=7.7659  , p=0.9328  , df=15\n",
            "parameter F test:         F=0.3172  , p=0.9906  , df_denom=43, df_num=15\n"
          ],
          "name": "stdout"
        }
      ]
    },
    {
      "cell_type": "markdown",
      "metadata": {
        "id": "YKgHOWsxu_Aa"
      },
      "source": [
        ""
      ]
    },
    {
      "cell_type": "code",
      "metadata": {
        "id": "tvhiOOosq1EE"
      },
      "source": [
        "from sklearn.model_selection import train_test_split\n",
        "X = mean\n",
        "X = np.array(mean['Mean_STAND'])\n",
        "Y = np.array(mean['Target'])\n",
        "\n",
        "X_train, X_test, Y_train, Y_test = train_test_split(X,Y, test_size=.15, random_state=69)\n",
        "\n",
        "X_test = X_test.reshape(-1, 1)\n",
        "X_train = X_train.reshape(-1, 1)\n",
        "Y_train = Y_train.reshape(-1, 1)\n",
        "Y_test = Y_test.reshape(-1, 1)"
      ],
      "execution_count": null,
      "outputs": []
    },
    {
      "cell_type": "code",
      "metadata": {
        "id": "xhDUkB5X6Ukw",
        "colab": {
          "base_uri": "https://localhost:8080/"
        },
        "outputId": "b55875d6-f02e-4a27-d669-9668d81f6c21"
      },
      "source": [
        "#Random Forest naive\n",
        "from sklearn.ensemble import RandomForestClassifier\n",
        "\n",
        "#Training classifier\n",
        "classifier = RandomForestClassifier(n_estimators = 50)\n",
        "classifier.fit(X_train, Y_train)\n",
        "\n",
        "#Making predictions\n",
        "y_pred = classifier.predict(X_test)\n",
        "round(classifier.score(X_test,Y_test), 4)\n"
      ],
      "execution_count": null,
      "outputs": [
        {
          "output_type": "stream",
          "text": [
            "/usr/local/lib/python3.6/dist-packages/ipykernel_launcher.py:6: DataConversionWarning: A column-vector y was passed when a 1d array was expected. Please change the shape of y to (n_samples,), for example using ravel().\n",
            "  \n"
          ],
          "name": "stderr"
        },
        {
          "output_type": "execute_result",
          "data": {
            "text/plain": [
              "0.5"
            ]
          },
          "metadata": {
            "tags": []
          },
          "execution_count": 38
        }
      ]
    },
    {
      "cell_type": "code",
      "metadata": {
        "id": "Z6dJ8HIZoM1l",
        "colab": {
          "base_uri": "https://localhost:8080/"
        },
        "outputId": "84a89e80-e7e9-44b5-cf5f-7018db037d51"
      },
      "source": [
        "#Logistic Regression naive\n",
        "from sklearn.linear_model import LogisticRegression\n",
        "LR = LogisticRegression(random_state=0, solver='lbfgs', multi_class='multinomial').fit(X_train, Y_train)\n",
        "LR.predict(X_test)\n",
        "round(LR.score(X_test,Y_test), 4)\n",
        "\n"
      ],
      "execution_count": null,
      "outputs": [
        {
          "output_type": "stream",
          "text": [
            "/usr/local/lib/python3.6/dist-packages/sklearn/utils/validation.py:760: DataConversionWarning: A column-vector y was passed when a 1d array was expected. Please change the shape of y to (n_samples, ), for example using ravel().\n",
            "  y = column_or_1d(y, warn=True)\n"
          ],
          "name": "stderr"
        },
        {
          "output_type": "execute_result",
          "data": {
            "text/plain": [
              "0.7143"
            ]
          },
          "metadata": {
            "tags": []
          },
          "execution_count": 39
        }
      ]
    },
    {
      "cell_type": "code",
      "metadata": {
        "id": "vyQP4wxZsAov",
        "colab": {
          "base_uri": "https://localhost:8080/"
        },
        "outputId": "a32c6700-c6ae-416e-ca66-60f03199ef26"
      },
      "source": [
        "#Support Vector Machine naive\n",
        "from sklearn import svm\n",
        "SVM = svm.SVC(decision_function_shape=\"ovo\").fit(X_train, Y_train)\n",
        "SVM.predict(X_test)\n",
        "round(SVM.score(X_test, Y_test), 4)\n",
        "\n"
      ],
      "execution_count": null,
      "outputs": [
        {
          "output_type": "stream",
          "text": [
            "/usr/local/lib/python3.6/dist-packages/sklearn/utils/validation.py:760: DataConversionWarning: A column-vector y was passed when a 1d array was expected. Please change the shape of y to (n_samples, ), for example using ravel().\n",
            "  y = column_or_1d(y, warn=True)\n"
          ],
          "name": "stderr"
        },
        {
          "output_type": "execute_result",
          "data": {
            "text/plain": [
              "0.6429"
            ]
          },
          "metadata": {
            "tags": []
          },
          "execution_count": 40
        }
      ]
    },
    {
      "cell_type": "code",
      "metadata": {
        "id": "coLAUEd9sY27",
        "colab": {
          "base_uri": "https://localhost:8080/"
        },
        "outputId": "590be90f-1824-43b8-c46f-04f2ada0bf4d"
      },
      "source": [
        "#Multilayer Perceptron\n",
        "from sklearn.neural_network import MLPClassifier\n",
        "NN = MLPClassifier(solver='lbfgs', alpha=1e-5, hidden_layer_sizes=(150, 10), random_state=1).fit(X_train, Y_train)\n",
        "NN.predict(X_test)\n",
        "round(NN.score(X_test, Y_test), 4)\n"
      ],
      "execution_count": null,
      "outputs": [
        {
          "output_type": "stream",
          "text": [
            "/usr/local/lib/python3.6/dist-packages/sklearn/neural_network/_multilayer_perceptron.py:934: DataConversionWarning: A column-vector y was passed when a 1d array was expected. Please change the shape of y to (n_samples, ), for example using ravel().\n",
            "  y = column_or_1d(y, warn=True)\n",
            "/usr/local/lib/python3.6/dist-packages/sklearn/neural_network/_multilayer_perceptron.py:470: ConvergenceWarning: lbfgs failed to converge (status=1):\n",
            "STOP: TOTAL NO. of ITERATIONS REACHED LIMIT.\n",
            "\n",
            "Increase the number of iterations (max_iter) or scale the data as shown in:\n",
            "    https://scikit-learn.org/stable/modules/preprocessing.html\n",
            "  self.n_iter_ = _check_optimize_result(\"lbfgs\", opt_res, self.max_iter)\n"
          ],
          "name": "stderr"
        },
        {
          "output_type": "execute_result",
          "data": {
            "text/plain": [
              "0.4286"
            ]
          },
          "metadata": {
            "tags": []
          },
          "execution_count": 41
        }
      ]
    },
    {
      "cell_type": "code",
      "metadata": {
        "colab": {
          "base_uri": "https://localhost:8080/"
        },
        "id": "5jfvQAgU2qsF",
        "outputId": "78e742ff-e7ad-4716-d93b-888f91f7eec7"
      },
      "source": [
        "#Linear Discriminant Analysis\n",
        "from sklearn.discriminant_analysis import LinearDiscriminantAnalysis\n",
        "model = LinearDiscriminantAnalysis().fit(X_train, Y_train)\n",
        "predictions = model.predict(X_test)\n",
        "predictions\n",
        "round(model.score(X_test, Y_test), 4)"
      ],
      "execution_count": null,
      "outputs": [
        {
          "output_type": "stream",
          "text": [
            "/usr/local/lib/python3.6/dist-packages/sklearn/utils/validation.py:760: DataConversionWarning: A column-vector y was passed when a 1d array was expected. Please change the shape of y to (n_samples, ), for example using ravel().\n",
            "  y = column_or_1d(y, warn=True)\n"
          ],
          "name": "stderr"
        },
        {
          "output_type": "execute_result",
          "data": {
            "text/plain": [
              "0.7143"
            ]
          },
          "metadata": {
            "tags": []
          },
          "execution_count": 42
        }
      ]
    },
    {
      "cell_type": "markdown",
      "metadata": {
        "id": "sHKtxUce1mkE"
      },
      "source": [
        "CNN MODEL\n"
      ]
    },
    {
      "cell_type": "code",
      "metadata": {
        "id": "b5tPiBm8uFG4"
      },
      "source": [
        "from sklearn.model_selection import train_test_split\n",
        "X = mean\n",
        "X = np.array(mean['Mean_STAND'], dtype='float32')\n",
        "Y = np.array(mean['Target'], dtype='int32')\n",
        "\n",
        "X_train, X_test, Y_train, Y_test = train_test_split(X,Y, test_size=.15, random_state=69)"
      ],
      "execution_count": null,
      "outputs": []
    },
    {
      "cell_type": "code",
      "metadata": {
        "id": "AHwl5H4by9CI"
      },
      "source": [
        "from keras.models import Sequential\n",
        "from keras.layers import Flatten, Dense \n",
        "model = Sequential()\n",
        "model.add(Flatten())\n",
        "model.add(Dense(4, activation = 'relu'))\n",
        "model.add(Dense(2, activation = 'relu'))\n",
        "model.add(Dense(1, activation = 'sigmoid'))\n",
        "\n",
        "model.compile(optimizer='adamax',\n",
        "              loss='binary_crossentropy',\n",
        "              metrics=['accuracy'])"
      ],
      "execution_count": null,
      "outputs": []
    },
    {
      "cell_type": "code",
      "metadata": {
        "colab": {
          "base_uri": "https://localhost:8080/"
        },
        "id": "AUJdFPrB01Ix",
        "outputId": "0c2652f6-38d1-4f84-d3b0-5a86ca6adf8e"
      },
      "source": [
        "model.fit(X_train, Y_train, epochs = 10, batch_size = 1)"
      ],
      "execution_count": null,
      "outputs": [
        {
          "output_type": "stream",
          "text": [
            "Epoch 1/10\n",
            "75/75 [==============================] - 0s 966us/step - loss: 0.6959 - accuracy: 0.4267\n",
            "Epoch 2/10\n",
            "75/75 [==============================] - 0s 943us/step - loss: 0.6953 - accuracy: 0.4533\n",
            "Epoch 3/10\n",
            "75/75 [==============================] - 0s 908us/step - loss: 0.6948 - accuracy: 0.4400\n",
            "Epoch 4/10\n",
            "75/75 [==============================] - 0s 926us/step - loss: 0.6945 - accuracy: 0.4400\n",
            "Epoch 5/10\n",
            "75/75 [==============================] - 0s 962us/step - loss: 0.6943 - accuracy: 0.4133\n",
            "Epoch 6/10\n",
            "75/75 [==============================] - 0s 928us/step - loss: 0.6940 - accuracy: 0.4933\n",
            "Epoch 7/10\n",
            "75/75 [==============================] - 0s 908us/step - loss: 0.6937 - accuracy: 0.5333\n",
            "Epoch 8/10\n",
            "75/75 [==============================] - 0s 941us/step - loss: 0.6933 - accuracy: 0.5333\n",
            "Epoch 9/10\n",
            "75/75 [==============================] - 0s 1ms/step - loss: 0.6931 - accuracy: 0.5333\n",
            "Epoch 10/10\n",
            "75/75 [==============================] - 0s 916us/step - loss: 0.6928 - accuracy: 0.5333\n"
          ],
          "name": "stdout"
        },
        {
          "output_type": "execute_result",
          "data": {
            "text/plain": [
              "<tensorflow.python.keras.callbacks.History at 0x7f0e01f32630>"
            ]
          },
          "metadata": {
            "tags": []
          },
          "execution_count": 45
        }
      ]
    },
    {
      "cell_type": "code",
      "metadata": {
        "colab": {
          "base_uri": "https://localhost:8080/"
        },
        "id": "enATavzs1y3Q",
        "outputId": "f0ea84ef-9932-43e5-ae96-013869e9c4a4"
      },
      "source": [
        "test_loss, test_acc = model.evaluate(X_test, Y_test)"
      ],
      "execution_count": null,
      "outputs": [
        {
          "output_type": "stream",
          "text": [
            "1/1 [==============================] - 0s 2ms/step - loss: 0.6882 - accuracy: 0.6429\n"
          ],
          "name": "stdout"
        }
      ]
    },
    {
      "cell_type": "code",
      "metadata": {
        "colab": {
          "base_uri": "https://localhost:8080/"
        },
        "id": "_cBgmoOg2C4n",
        "outputId": "dc71b52b-2ba7-4d5a-c06d-6a9217b287e7"
      },
      "source": [
        "test_acc"
      ],
      "execution_count": null,
      "outputs": [
        {
          "output_type": "execute_result",
          "data": {
            "text/plain": [
              "0.6428571343421936"
            ]
          },
          "metadata": {
            "tags": []
          },
          "execution_count": 47
        }
      ]
    }
  ]
}