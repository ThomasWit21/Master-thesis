{
  "nbformat": 4,
  "nbformat_minor": 0,
  "metadata": {
    "colab": {
      "name": "Master Thesis Data Science",
      "provenance": [],
      "collapsed_sections": [],
      "mount_file_id": "1fgSEskGHwM6ulGivHQIxVUepGTarzvqx",
      "authorship_tag": "ABX9TyN0HQZ073FhFIdm/x1dydyM",
      "include_colab_link": true
    },
    "kernelspec": {
      "display_name": "Python 3",
      "name": "python3"
    }
  },
  "cells": [
    {
      "cell_type": "markdown",
      "metadata": {
        "id": "view-in-github",
        "colab_type": "text"
      },
      "source": [
        "<a href=\"https://colab.research.google.com/github/ThomasWit21/Master-thesis/blob/main/Master_Thesis_Data_Science.ipynb\" target=\"_parent\"><img src=\"https://colab.research.google.com/assets/colab-badge.svg\" alt=\"Open In Colab\"/></a>"
      ]
    },
    {
      "cell_type": "code",
      "metadata": {
        "id": "-y_rrzOdntQQ"
      },
      "source": [
        "#Importing the relevant packages\n",
        "import numpy as np \n",
        "import pandas as pd\n",
        "import matplotlib as plt\n",
        "import sklearn"
      ],
      "execution_count": null,
      "outputs": []
    },
    {
      "cell_type": "code",
      "metadata": {
        "id": "qHDrdt3rqEw8",
        "colab": {
          "base_uri": "https://localhost:8080/"
        },
        "outputId": "f580a394-f60b-40d3-f59e-cbf4d6c5add0"
      },
      "source": [
        "#Mounting drive\n",
        "from google.colab import drive\n",
        "drive.mount('/content/drive')"
      ],
      "execution_count": null,
      "outputs": [
        {
          "output_type": "stream",
          "text": [
            "Drive already mounted at /content/drive; to attempt to forcibly remount, call drive.mount(\"/content/drive\", force_remount=True).\n"
          ],
          "name": "stdout"
        }
      ]
    },
    {
      "cell_type": "code",
      "metadata": {
        "id": "zcsgoFbLnxgg"
      },
      "source": [
        "#Reading tweets\n",
        "tweets_df = pd.read_csv(\"/content/drive/My Drive/Tweets.csv\")"
      ],
      "execution_count": null,
      "outputs": []
    },
    {
      "cell_type": "code",
      "metadata": {
        "id": "aGU-ISudn1hD",
        "colab": {
          "base_uri": "https://localhost:8080/"
        },
        "outputId": "25835892-0bc7-436f-931c-ebd8b767dd3f"
      },
      "source": [
        "#Information about dataset\n",
        "len(tweets_df)\n",
        "print(f\"data shape: {tweets_df.shape}\")\n",
        "tweets_df.info()\n"
      ],
      "execution_count": null,
      "outputs": [
        {
          "output_type": "stream",
          "text": [
            "data shape: (1385469, 12)\n",
            "<class 'pandas.core.frame.DataFrame'>\n",
            "RangeIndex: 1385469 entries, 0 to 1385468\n",
            "Data columns (total 12 columns):\n",
            " #   Column        Non-Null Count    Dtype  \n",
            "---  ------        --------------    -----  \n",
            " 0   text          1385469 non-null  object \n",
            " 1   tweet_id      1385469 non-null  int64  \n",
            " 2   nbr_retweet   1385469 non-null  int64  \n",
            " 3   nbr_favorite  1385469 non-null  int64  \n",
            " 4   nbr_reply     1385469 non-null  int64  \n",
            " 5   datetime      1385469 non-null  object \n",
            " 6   is_reply      1385469 non-null  bool   \n",
            " 7   is_retweet    1385469 non-null  bool   \n",
            " 8   hashtags      1385469 non-null  object \n",
            " 9   mentions      1385469 non-null  object \n",
            " 10  has_media     193579 non-null   float64\n",
            " 11  medias        193579 non-null   object \n",
            "dtypes: bool(2), float64(1), int64(4), object(5)\n",
            "memory usage: 108.3+ MB\n"
          ],
          "name": "stdout"
        }
      ]
    },
    {
      "cell_type": "code",
      "metadata": {
        "id": "dsHuGPtc34Ko"
      },
      "source": [
        "#Deleting all irrelevant columns\n",
        "tweets_df = tweets_df.drop([\"tweet_id\", \"nbr_retweet\", \"nbr_favorite\", \"nbr_reply\", \"is_reply\", \"is_retweet\", \"hashtags\", \"mentions\", \"has_media\", \"medias\"], axis = 1)"
      ],
      "execution_count": null,
      "outputs": []
    },
    {
      "cell_type": "code",
      "metadata": {
        "id": "eoMXw1-wrhug",
        "colab": {
          "base_uri": "https://localhost:8080/",
          "height": 142
        },
        "outputId": "7a48b900-0b9a-4b9e-ec8a-401b69cb3f27"
      },
      "source": [
        "##Is there any missing data?\n",
        "def missing_data(data):\n",
        "    total = data.isnull().sum()\n",
        "    percent = (data.isnull().sum()/data.isnull().count()*100)\n",
        "    tt = pd.concat([total, percent], axis=1, keys=['Total', 'Percent'])\n",
        "    types = []\n",
        "    for col in data.columns:\n",
        "        dtype = str(data[col].dtype)\n",
        "        types.append(dtype)\n",
        "    tt['Types'] = types\n",
        "    return(np.transpose(tt))\n",
        "missing_data(tweets_df)"
      ],
      "execution_count": null,
      "outputs": [
        {
          "output_type": "execute_result",
          "data": {
            "text/html": [
              "<div>\n",
              "<style scoped>\n",
              "    .dataframe tbody tr th:only-of-type {\n",
              "        vertical-align: middle;\n",
              "    }\n",
              "\n",
              "    .dataframe tbody tr th {\n",
              "        vertical-align: top;\n",
              "    }\n",
              "\n",
              "    .dataframe thead th {\n",
              "        text-align: right;\n",
              "    }\n",
              "</style>\n",
              "<table border=\"1\" class=\"dataframe\">\n",
              "  <thead>\n",
              "    <tr style=\"text-align: right;\">\n",
              "      <th></th>\n",
              "      <th>text</th>\n",
              "      <th>datetime</th>\n",
              "    </tr>\n",
              "  </thead>\n",
              "  <tbody>\n",
              "    <tr>\n",
              "      <th>Total</th>\n",
              "      <td>0</td>\n",
              "      <td>0</td>\n",
              "    </tr>\n",
              "    <tr>\n",
              "      <th>Percent</th>\n",
              "      <td>0</td>\n",
              "      <td>0</td>\n",
              "    </tr>\n",
              "    <tr>\n",
              "      <th>Types</th>\n",
              "      <td>object</td>\n",
              "      <td>object</td>\n",
              "    </tr>\n",
              "  </tbody>\n",
              "</table>\n",
              "</div>"
            ],
            "text/plain": [
              "           text datetime\n",
              "Total         0        0\n",
              "Percent       0        0\n",
              "Types    object   object"
            ]
          },
          "metadata": {
            "tags": []
          },
          "execution_count": 6
        }
      ]
    },
    {
      "cell_type": "markdown",
      "metadata": {
        "id": "DgSEZJYlrid6"
      },
      "source": [
        "Preprocessing"
      ]
    },
    {
      "cell_type": "code",
      "metadata": {
        "id": "QFntgqX5t-Nb"
      },
      "source": [
        "#Removing the punctuation\n",
        "import string\n",
        "import re\n",
        "string.punctuation\n",
        "\n",
        "def remove_punct(text):\n",
        "    text  = \"\".join([char for char in text if char not in string.punctuation])\n",
        "    text = re.sub('[0-9]+http\\S?:\\/\\/.*[\\r\\n]*', '', text)\n",
        "    return text\n",
        "\n",
        "tweets_df['Tweet_punct'] = tweets_df['text'].apply(lambda x: remove_punct(x))"
      ],
      "execution_count": null,
      "outputs": []
    },
    {
      "cell_type": "code",
      "metadata": {
        "id": "rlvjhN6YisW8"
      },
      "source": [
        "##Tokenize the tweet texts and remove upper case letter\n",
        "from nltk.tokenize import TweetTokenizer\n",
        "tt = TweetTokenizer()\n",
        "tweets_df['tokenized_tweets'] = tweets_df['Tweet_punct'].apply(lambda x: tt.tokenize(x.lower()))"
      ],
      "execution_count": null,
      "outputs": []
    },
    {
      "cell_type": "code",
      "metadata": {
        "id": "xMryrnxUxYal",
        "colab": {
          "base_uri": "https://localhost:8080/"
        },
        "outputId": "d7680222-8012-48aa-fc17-486e616e1546"
      },
      "source": [
        "#Removing English stopwords\n",
        "import nltk\n",
        "from nltk.corpus import stopwords\n",
        "nltk.download('stopwords')\n",
        "stopword = nltk.corpus.stopwords.words('english')\n",
        "def remove_stopwords(text):\n",
        "    text = [word for word in text if word not in stopword]\n",
        "    return text\n",
        "    \n",
        "tweets_df['Tweet_nonstop'] = tweets_df['tokenized_tweets'].apply(lambda x: remove_stopwords(x))"
      ],
      "execution_count": null,
      "outputs": [
        {
          "output_type": "stream",
          "text": [
            "[nltk_data] Downloading package stopwords to /root/nltk_data...\n",
            "[nltk_data]   Unzipping corpora/stopwords.zip.\n"
          ],
          "name": "stdout"
        }
      ]
    },
    {
      "cell_type": "code",
      "metadata": {
        "id": "AMPYWngCvfqi"
      },
      "source": [
        "##Sentiment analysis using VADER\n",
        "#import nltk\n",
        "#nltk.download('vader_lexicon')\n",
        "#from nltk.sentiment.vader import SentimentIntensityAnalyzer\n",
        "\n",
        "#sentiment = []\n",
        "#def analyze_sentiment_vader_lexicon(review, \n",
        "#                                    threshold=0.1,\n",
        "#                                    verbose=False):    \n",
        "    # analyze the sentiment for review\n",
        "#    analyzer = SentimentIntensityAnalyzer()\n",
        "#    scores = analyzer.polarity_scores(review)\n",
        "#    agg_score = scores['compound']\n",
        "#    final = round(agg_score, 2)\n",
        "#    sentiment.append(final)\n",
        "\n",
        "#for text in tweets_df.text:\n",
        "#  analyze_sentiment_vader_lexicon(text, threshold=0.4, verbose=True)\n",
        "\n",
        "#import pandas\n",
        "#df = pandas.DataFrame(data={\"col1\": sentiment})\n",
        "#df.to_csv(\"./file.csv\", sep=',',index=False)\n",
        "\n",
        "sentiment = pd.read_csv(\"/content/drive/My Drive/SentimentScores.csv\")\n",
        "tweets_df['Sentiment Score'] = pd.DataFrame(sentiment)"
      ],
      "execution_count": null,
      "outputs": []
    },
    {
      "cell_type": "code",
      "metadata": {
        "id": "bVS4pPN9pgpD"
      },
      "source": [
        "#pip install afinn"
      ],
      "execution_count": null,
      "outputs": []
    },
    {
      "cell_type": "code",
      "metadata": {
        "id": "PrOUsJoGAjYf"
      },
      "source": [
        "##Loading in the AFINN Lexicon\n",
        "#from afinn import Afinn\n",
        "#afinn = Afinn()\n",
        "#def sentiment_score(text):\n",
        "#  sentiment_scores = [afinn.score(tweet_nonstop) for tweet_nonstop in tweets_df]   \n",
        "#  return sentiment_scores\n",
        "    \n",
        "#tweets_df['Afinn_sentiment'] = tweets_df['Tweet_nonstop'].apply(lambda x: sentiment_score(x))"
      ],
      "execution_count": null,
      "outputs": []
    },
    {
      "cell_type": "code",
      "metadata": {
        "id": "gwIRxMOZZ5_y"
      },
      "source": [
        "##Rounding the sentiments\n",
        "def round_sentiment(x):\n",
        "    if x >= 0.0 and x < 0.04:\n",
        "      return 0\n",
        "    elif x >= 0.04:\n",
        "      return 1\n",
        "    elif x < 0.0:\n",
        "      return -1\n",
        "\n",
        "rounded = []\n",
        "for x in tweets_df['Sentiment Score']:\n",
        "  rounded.append(round_sentiment(x))\n",
        "\n",
        "tweets_df['Sentiment rounded'] = rounded"
      ],
      "execution_count": null,
      "outputs": []
    },
    {
      "cell_type": "code",
      "metadata": {
        "id": "K7zw-9vqVtut"
      },
      "source": [
        "##Splitting the time and date\n",
        "days = [item.split(\" \")[0] for item in tweets_df['datetime'].values]\n",
        "tweets_df['days'] = days"
      ],
      "execution_count": null,
      "outputs": []
    },
    {
      "cell_type": "code",
      "metadata": {
        "id": "6D8SCATHbl8i"
      },
      "source": [
        "##Summarize amount of tweets and the mean sentiment per day\n",
        "mean = tweets_df.groupby(tweets_df['days']) \\\n",
        "       .agg(count=('text', 'size'), mean = ('Sentiment rounded', 'mean')) \\\n",
        "       .reset_index()"
      ],
      "execution_count": null,
      "outputs": []
    },
    {
      "cell_type": "code",
      "metadata": {
        "id": "apwL3cfAfFot",
        "colab": {
          "base_uri": "https://localhost:8080/",
          "height": 295
        },
        "outputId": "3165a44b-e538-491a-f4da-613b6546e4bc"
      },
      "source": [
        "#Count of tweets per day\n",
        "mean_scores = mean.unstack()\n",
        "mean_scores = mean_scores.xs('count')\n",
        "# Plot a bar chart with pandas\n",
        "plt.pyplot.xlabel('Day')\n",
        "plt.pyplot.ylabel('Amount')\n",
        "plt.pyplot.title('Amount of COVID-19 Tweets per day')\n",
        "x = np.array([0,20,40,60,80])\n",
        "xticks = ['2020-02-01', '2020-02-21', '2020-03-12', '2020-04-01', '2020-04-20']\n",
        "plt.pyplot.xticks(x, xticks, rotation = 45)\n",
        "mean_scores.plot(kind = 'line', x = 'days', color = 'black')\n",
        "plt.pyplot.grid()"
      ],
      "execution_count": null,
      "outputs": [
        {
          "output_type": "display_data",
          "data": {
            "image/png": "[encoded data removed]",
            "text/plain": [
              "<Figure size 432x288 with 1 Axes>"
            ]
          },
          "metadata": {
            "tags": [],
            "needs_background": "light"
          }
        }
      ]
    },
    {
      "cell_type": "code",
      "metadata": {
        "id": "uGCd7Ky-OBX5",
        "colab": {
          "base_uri": "https://localhost:8080/",
          "height": 295
        },
        "outputId": "518e1387-2e91-4c3f-9fee-1f66ff7f2980"
      },
      "source": [
        "#Count of sentiment score per day\n",
        "plt.pyplot.xlabel('Days')\n",
        "plt.pyplot.ylabel('Sentiment rounded')\n",
        "plt.pyplot.title('Sentiment Score of COVID-19 Tweets per day')\n",
        "x = np.array([0,20,40,60,80])\n",
        "xticks = ['2020-02-01', '2020-02-21', '2020-03-12', '2020-04-01', '2020-04-20']\n",
        "plt.pyplot.xticks(x, xticks, rotation = 45)\n",
        "mean['mean'].plot(kind = 'line', x = 'days', color = 'black')\n",
        "plt.pyplot.grid()"
      ],
      "execution_count": null,
      "outputs": [
        {
          "output_type": "display_data",
          "data": {
            "image/png": "[encoded data removed]",
            "text/plain": [
              "<Figure size 432x288 with 1 Axes>"
            ]
          },
          "metadata": {
            "tags": [],
            "needs_background": "light"
          }
        }
      ]
    },
    {
      "cell_type": "code",
      "metadata": {
        "id": "Q87ldjSbozPs"
      },
      "source": [
        "DJIA = pd.read_csv(\"/content/drive/My Drive/DJIA Concave filled.csv\", sep = ';')"
      ],
      "execution_count": null,
      "outputs": []
    },
    {
      "cell_type": "code",
      "metadata": {
        "id": "aVxgOoKDtoKB",
        "colab": {
          "base_uri": "https://localhost:8080/",
          "height": 364
        },
        "outputId": "074d7bc1-9a5f-4a6f-d7ef-77c0d93df85d"
      },
      "source": [
        "from matplotlib.ticker import ScalarFormatter\n",
        "\n",
        "fig = plt.pyplot.figure(figsize=(10,5))\n",
        "ax = fig.add_subplot(111)\n",
        "ax.plot(DJIA['Date'],DJIA['Close'], label='Values')\n",
        "ax.set(title='DJIA Closing Value Over Time', xlabel='Date', ylabel='DJIA Value')\n",
        "fig.tight_layout()\n",
        "fig.autofmt_xdate()\n",
        "plt.pyplot.xticks(np.arange(0, len(DJIA['Date'])+1, 7))\n",
        "y_formatter = ScalarFormatter(useOffset=False)\n",
        "ax.yaxis.set_major_formatter(y_formatter)\n",
        "locs,labels = plt.pyplot.yticks()\n",
        "plt.pyplot.yticks(locs, map(lambda x: \"%.1f\" % x, locs*1e0))\n",
        "plt.pyplot.show()"
      ],
      "execution_count": null,
      "outputs": [
        {
          "output_type": "display_data",
          "data": {
            "image/png": "[encoded data removed]",
            "text/plain": [
              "<Figure size 720x360 with 1 Axes>"
            ]
          },
          "metadata": {
            "tags": [],
            "needs_background": "light"
          }
        }
      ]
    },
    {
      "cell_type": "code",
      "metadata": {
        "id": "Kmp7bRsCtuOs",
        "colab": {
          "base_uri": "https://localhost:8080/",
          "height": 404
        },
        "outputId": "509789a3-b8c8-4001-d175-b29e4eacdd35"
      },
      "source": [
        "#Checking the density of the Sentiment Scores (Note: if 0 sentiment not included, the average would be much higher)\n",
        "import seaborn as sns\n",
        "fig = plt.pyplot.figure(figsize=(10,5))\n",
        "ax = fig.add_subplot(111)\n",
        "ax.set(title = 'Density of Sentiment Scores')\n",
        "sns.distplot(tweets_df['Sentiment Score'], bins=15, ax=ax, color = 'k')\n",
        "plt.pyplot.show()"
      ],
      "execution_count": null,
      "outputs": [
        {
          "output_type": "stream",
          "text": [
            "/usr/local/lib/python3.6/dist-packages/seaborn/distributions.py:2557: FutureWarning: `distplot` is a deprecated function and will be removed in a future version. Please adapt your code to use either `displot` (a figure-level function with similar flexibility) or `histplot` (an axes-level function for histograms).\n",
            "  warnings.warn(msg, FutureWarning)\n"
          ],
          "name": "stderr"
        },
        {
          "output_type": "display_data",
          "data": {
            "image/png": "[encoded data removed]",
            "text/plain": [
              "<Figure size 720x360 with 1 Axes>"
            ]
          },
          "metadata": {
            "tags": [],
            "needs_background": "light"
          }
        }
      ]
    },
    {
      "cell_type": "code",
      "metadata": {
        "id": "46MT9RzihtdF",
        "colab": {
          "base_uri": "https://localhost:8080/",
          "height": 404
        },
        "outputId": "983338dc-c6cd-49ac-8c04-6be3f6a1bc2c"
      },
      "source": [
        "#Checking the density of the Sentiment Scores (Note: if 0 sentiment not included, the average would be much higher)\n",
        "import seaborn as sns\n",
        "fig = plt.pyplot.figure(figsize=(10,5))\n",
        "ax = fig.add_subplot(111)\n",
        "ax.set(title = 'Density of Rounded Sentiment Scores')\n",
        "sns.distplot(tweets_df['Sentiment rounded'], bins=15, ax=ax, color = 'k')\n",
        "plt.pyplot.show()"
      ],
      "execution_count": null,
      "outputs": [
        {
          "output_type": "stream",
          "text": [
            "/usr/local/lib/python3.6/dist-packages/seaborn/distributions.py:2557: FutureWarning: `distplot` is a deprecated function and will be removed in a future version. Please adapt your code to use either `displot` (a figure-level function with similar flexibility) or `histplot` (an axes-level function for histograms).\n",
            "  warnings.warn(msg, FutureWarning)\n"
          ],
          "name": "stderr"
        },
        {
          "output_type": "display_data",
          "data": {
            "image/png": "[encoded data removed]",
            "text/plain": [
              "<Figure size 720x360 with 1 Axes>"
            ]
          },
          "metadata": {
            "tags": [],
            "needs_background": "light"
          }
        }
      ]
    },
    {
      "cell_type": "markdown",
      "metadata": {
        "id": "LTxd7X3WoL4L"
      },
      "source": [
        "**Checking VADER against labeled tweets**"
      ]
    },
    {
      "cell_type": "code",
      "metadata": {
        "id": "i6O2k6PWtlLR"
      },
      "source": [
        "#Vadercheck = pd.read_csv(\"/content/drive/My Drive/VADERcheck.csv\", encoding = \"ISO-8859-1\")\n",
        "#Vadercheck = Vadercheck.drop(['1467810369', 'Mon Apr 06 22:19:45 PDT 2009', 'NO_QUERY', '_TheSpecialOne_'], axis = 1)\n",
        "#Vadercheck = Vadercheck.rename(columns = {'0' : 'Sentiment Score', \"@switchfoot http://twitpic.com/2y1zl - Awww, that's a bummer.  You shoulda got David Carr of Third Day to do it. ;D\" : \"Text\"})\n",
        "#Samplecheck = Vadercheck.sample(n=100000)"
      ],
      "execution_count": null,
      "outputs": []
    },
    {
      "cell_type": "code",
      "metadata": {
        "id": "V-ocQ27pDojN"
      },
      "source": [
        "#import nltk\n",
        "#nltk.download('vader_lexicon')\n",
        "#from nltk.sentiment.vader import SentimentIntensityAnalyzer\n",
        "\n",
        "#Sentimentcheck = []\n",
        "#def analyze_sentiment_vader_lexicon(review, \n",
        "#                                    threshold=0.1,\n",
        "#                                    verbose=False):    \n",
        "    # analyze the sentiment for review\n",
        "#    analyzer = SentimentIntensityAnalyzer()\n",
        "#    scores = analyzer.polarity_scores(review)\n",
        "#    agg_score = scores['compound']\n",
        "#    final = round(agg_score, 2)\n",
        "#    Sentimentcheck.append(final)\n",
        "\n",
        "#for text in Samplecheck.Text:\n",
        "#  analyze_sentiment_vader_lexicon(text, threshold=0.4, verbose=True)\n",
        "\n",
        "#Samplecheck['Checked'] = Sentimentcheck\n",
        "Samplecheck = pd.read_csv(\"/content/drive/My Drive/Vader checks.csv\")\n"
      ],
      "execution_count": null,
      "outputs": []
    },
    {
      "cell_type": "code",
      "metadata": {
        "id": "eRc_j6xdLb_6"
      },
      "source": [
        "#Samplecheck.to_csv(\"./file.csv\", sep=',',index=False)"
      ],
      "execution_count": null,
      "outputs": []
    },
    {
      "cell_type": "code",
      "metadata": {
        "id": "wMFRFOkgSaQI"
      },
      "source": [
        "def round_vader_sentiment(x):\n",
        "    if x >= 0.0 and x <= 0.04:\n",
        "      return 2\n",
        "    elif x > 0.04:\n",
        "      return 4\n",
        "    elif x < 0.00:\n",
        "      return 0\n",
        "\n",
        "roundedVADER = []\n",
        "for x in Samplecheck['Checked']:\n",
        "  roundedVADER.append(round_vader_sentiment(x))"
      ],
      "execution_count": null,
      "outputs": []
    },
    {
      "cell_type": "code",
      "metadata": {
        "id": "X59JhWHXSdK1"
      },
      "source": [
        "Samplecheck['Checkedrounded'] = roundedVADER"
      ],
      "execution_count": null,
      "outputs": []
    },
    {
      "cell_type": "code",
      "metadata": {
        "id": "JRA5Piu1Tn7B"
      },
      "source": [
        "y_pred = Samplecheck['Checkedrounded']\n",
        "y_test = Samplecheck['Sentiment Score']  "
      ],
      "execution_count": null,
      "outputs": []
    },
    {
      "cell_type": "code",
      "metadata": {
        "id": "gcmHkds1UYdX",
        "colab": {
          "base_uri": "https://localhost:8080/"
        },
        "outputId": "c4704099-55d4-4431-c833-3253686402f3"
      },
      "source": [
        "from sklearn.metrics import confusion_matrix\n",
        "confusion_matrix(y_pred, y_test)"
      ],
      "execution_count": null,
      "outputs": [
        {
          "output_type": "execute_result",
          "data": {
            "text/plain": [
              "array([[21438,     0,  5034],\n",
              "       [13227,     0, 14138],\n",
              "       [15653,     0, 30510]])"
            ]
          },
          "metadata": {
            "tags": []
          },
          "execution_count": 29
        }
      ]
    },
    {
      "cell_type": "code",
      "metadata": {
        "id": "k9PqiNK7U6Fl",
        "colab": {
          "base_uri": "https://localhost:8080/"
        },
        "outputId": "8856ce93-59fa-4470-c781-f7d801746bec"
      },
      "source": [
        "from sklearn.metrics import accuracy_score\n",
        "accuracy_score(y_pred, y_test)"
      ],
      "execution_count": null,
      "outputs": [
        {
          "output_type": "execute_result",
          "data": {
            "text/plain": [
              "0.51948"
            ]
          },
          "metadata": {
            "tags": []
          },
          "execution_count": 30
        }
      ]
    },
    {
      "cell_type": "markdown",
      "metadata": {
        "id": "VdlJKFdLnYgQ"
      },
      "source": [
        "**Results Section**"
      ]
    },
    {
      "cell_type": "markdown",
      "metadata": {
        "id": "oNzmUJP3F59q"
      },
      "source": [
        "Normalizing and Granger Causality test\n"
      ]
    },
    {
      "cell_type": "code",
      "metadata": {
        "id": "7ormLU1PaiGs"
      },
      "source": [
        "def z_score(df):\n",
        "    df_std = df.copy()\n",
        "    for column in df_std.columns:\n",
        "        df_std[column] = (df_std[column] - df_std[column].mean()) / df_std[column].std()\n",
        "        \n",
        "    return df_std"
      ],
      "execution_count": null,
      "outputs": []
    },
    {
      "cell_type": "code",
      "metadata": {
        "id": "16MuwO9dqwHA"
      },
      "source": [
        "mean['DJIA'] = DJIA['Difference']"
      ],
      "execution_count": null,
      "outputs": []
    },
    {
      "cell_type": "code",
      "metadata": {
        "id": "PJQOWqLyan2v"
      },
      "source": [
        "#Standardizing\n",
        "mean_standardized = z_score(pd.DataFrame(mean['mean']))\n",
        "mean['Mean_STAND'] = mean_standardized\n",
        "\n",
        "DJIA_difference_standardized = z_score(pd.DataFrame(mean['DJIA']))\n",
        "mean['DJIA_DIF_STAND'] = DJIA_difference_standardized\n",
        "\n",
        "mean['DJIA_Close_stand'] = z_score(pd.DataFrame(DJIA['Close']))\n",
        "\n"
      ],
      "execution_count": null,
      "outputs": []
    },
    {
      "cell_type": "code",
      "metadata": {
        "id": "Tmo22AH-WOXi",
        "colab": {
          "base_uri": "https://localhost:8080/",
          "height": 487
        },
        "outputId": "9ed8f421-cc30-4a3b-bfeb-ebe93b6f8fc0"
      },
      "source": [
        "#Visualizing the relationship Sentiment and Closing Value\n",
        "ax = sns.lineplot(x=\"days\", y=\"Mean_STAND\", data=mean, color = 'k', label = 'Mean Sentiment')\n",
        "ax1 = sns.lineplot(x=\"days\", y='DJIA_Close_stand', data=mean, label = \"DJIA Closing Values\")\n",
        "x = np.array([0,20,40,60,80])\n",
        "xticks = ['2020-02-01', '2020-02-21', '2020-03-12', '2020-04-01', '2020-04-20']\n",
        "plt.pyplot.xticks(x, xticks, rotation = 45)"
      ],
      "execution_count": null,
      "outputs": [
        {
          "output_type": "execute_result",
          "data": {
            "text/plain": [
              "([<matplotlib.axis.XTick at 0x7f9b1bd569e8>,\n",
              "  <matplotlib.axis.XTick at 0x7f9b1bd569b0>,\n",
              "  <matplotlib.axis.XTick at 0x7f9b1bcf4f98>,\n",
              "  <matplotlib.axis.XTick at 0x7f9b1bd08668>,\n",
              "  <matplotlib.axis.XTick at 0x7f9b1bd08da0>],\n",
              " [Text(0, 0, '2020-02-01'),\n",
              "  Text(0, 0, '2020-02-21'),\n",
              "  Text(0, 0, '2020-03-12'),\n",
              "  Text(0, 0, '2020-04-01'),\n",
              "  Text(0, 0, '2020-04-20')])"
            ]
          },
          "metadata": {
            "tags": []
          },
          "execution_count": 34
        },
        {
          "output_type": "display_data",
          "data": {
            "image/png": "[encoded data removed]",
            "text/plain": [
              "<Figure size 432x288 with 1 Axes>"
            ]
          },
          "metadata": {
            "tags": [],
            "needs_background": "light"
          }
        }
      ]
    },
    {
      "cell_type": "code",
      "metadata": {
        "id": "dgpyzu9bjmDF",
        "colab": {
          "base_uri": "https://localhost:8080/",
          "height": 487
        },
        "outputId": "fbd1f24c-cbe1-4d3c-8b61-2e6e8c9b090c"
      },
      "source": [
        "#Visualizing the relationship Sentiment and Difference Value\n",
        "ax = sns.lineplot(x=\"days\", y=\"Mean_STAND\", data=mean, color = 'k', label = 'Mean Sentiment')\n",
        "ax1 = sns.lineplot(x=\"days\", y='DJIA_DIF_STAND', data=mean, label = \"DJIA Daily Difference\")\n",
        "x = np.array([0,20,40,60,80])\n",
        "xticks = ['2020-02-01', '2020-02-21', '2020-03-12', '2020-04-01', '2020-04-20']\n",
        "plt.pyplot.xticks(x, xticks, rotation = 45)"
      ],
      "execution_count": null,
      "outputs": [
        {
          "output_type": "execute_result",
          "data": {
            "text/plain": [
              "([<matplotlib.axis.XTick at 0x7f9b1bc5df98>,\n",
              "  <matplotlib.axis.XTick at 0x7f9b1bc5d978>,\n",
              "  <matplotlib.axis.XTick at 0x7f9b1bc22668>,\n",
              "  <matplotlib.axis.XTick at 0x7f9b1bc22eb8>,\n",
              "  <matplotlib.axis.XTick at 0x7f9b1bbb6400>],\n",
              " [Text(0, 0, '2020-02-01'),\n",
              "  Text(0, 0, '2020-02-21'),\n",
              "  Text(0, 0, '2020-03-12'),\n",
              "  Text(0, 0, '2020-04-01'),\n",
              "  Text(0, 0, '2020-04-20')])"
            ]
          },
          "metadata": {
            "tags": []
          },
          "execution_count": 35
        },
        {
          "output_type": "display_data",
          "data": {
            "image/png": "[encoded data removed]",
            "text/plain": [
              "<Figure size 432x288 with 1 Axes>"
            ]
          },
          "metadata": {
            "tags": [],
            "needs_background": "light"
          }
        }
      ]
    },
    {
      "cell_type": "code",
      "metadata": {
        "id": "u82RYaDppqnM"
      },
      "source": [
        "Listy = []\n",
        "for x in mean['DJIA']:\n",
        "  if x > 0:\n",
        "    Listy.append(1)\n",
        "  else:\n",
        "    Listy.append(0)\n",
        "mean['Target'] = Listy"
      ],
      "execution_count": null,
      "outputs": []
    },
    {
      "cell_type": "code",
      "metadata": {
        "id": "MV22TdPGMvH9"
      },
      "source": [
        "mean['Sentiment Score'] = tweets_df['Sentiment Score']\r\n",
        "mean['Close'] = DJIA['Close']\r\n",
        "mean['Open'] = DJIA['Open']"
      ],
      "execution_count": null,
      "outputs": []
    },
    {
      "cell_type": "code",
      "metadata": {
        "id": "jGBzwZQrAazM",
        "colab": {
          "base_uri": "https://localhost:8080/"
        },
        "outputId": "89c70cfd-8f03-4587-c7b1-7cf1e7d95a83"
      },
      "source": [
        "#Granger causality test\n",
        "from statsmodels.tsa.stattools import grangercausalitytests\n",
        "res = grangercausalitytests(mean[['Mean_STAND', 'DJIA_Close_stand']], maxlag=15)\\"
      ],
      "execution_count": null,
      "outputs": [
        {
          "output_type": "stream",
          "text": [
            "/usr/local/lib/python3.6/dist-packages/statsmodels/tools/_testing.py:19: FutureWarning: pandas.util.testing is deprecated. Use the functions in the public API at pandas.testing instead.\n",
            "  import pandas.util.testing as tm\n"
          ],
          "name": "stderr"
        },
        {
          "output_type": "stream",
          "text": [
            "\n",
            "Granger Causality\n",
            "number of lags (no zero) 1\n",
            "ssr based F test:         F=12.1677 , p=0.0008  , df_denom=85, df_num=1\n",
            "ssr based chi2 test:   chi2=12.5972 , p=0.0004  , df=1\n",
            "likelihood ratio test: chi2=11.7733 , p=0.0006  , df=1\n",
            "parameter F test:         F=12.1677 , p=0.0008  , df_denom=85, df_num=1\n",
            "\n",
            "Granger Causality\n",
            "number of lags (no zero) 2\n",
            "ssr based F test:         F=4.4173  , p=0.0151  , df_denom=82, df_num=2\n",
            "ssr based chi2 test:   chi2=9.3734  , p=0.0092  , df=2\n",
            "likelihood ratio test: chi2=8.9020  , p=0.0117  , df=2\n",
            "parameter F test:         F=4.4173  , p=0.0151  , df_denom=82, df_num=2\n",
            "\n",
            "Granger Causality\n",
            "number of lags (no zero) 3\n",
            "ssr based F test:         F=3.2237  , p=0.0270  , df_denom=79, df_num=3\n",
            "ssr based chi2 test:   chi2=10.5280 , p=0.0146  , df=3\n",
            "likelihood ratio test: chi2=9.9318  , p=0.0192  , df=3\n",
            "parameter F test:         F=3.2237  , p=0.0270  , df_denom=79, df_num=3\n",
            "\n",
            "Granger Causality\n",
            "number of lags (no zero) 4\n",
            "ssr based F test:         F=2.5407  , p=0.0465  , df_denom=76, df_num=4\n",
            "ssr based chi2 test:   chi2=11.3661 , p=0.0227  , df=4\n",
            "likelihood ratio test: chi2=10.6678 , p=0.0306  , df=4\n",
            "parameter F test:         F=2.5407  , p=0.0465  , df_denom=76, df_num=4\n",
            "\n",
            "Granger Causality\n",
            "number of lags (no zero) 5\n",
            "ssr based F test:         F=1.9896  , p=0.0902  , df_denom=73, df_num=5\n",
            "ssr based chi2 test:   chi2=11.4468 , p=0.0432  , df=5\n",
            "likelihood ratio test: chi2=10.7312 , p=0.0570  , df=5\n",
            "parameter F test:         F=1.9896  , p=0.0902  , df_denom=73, df_num=5\n",
            "\n",
            "Granger Causality\n",
            "number of lags (no zero) 6\n",
            "ssr based F test:         F=1.7004  , p=0.1337  , df_denom=70, df_num=6\n",
            "ssr based chi2 test:   chi2=12.0974 , p=0.0598  , df=6\n",
            "likelihood ratio test: chi2=11.2931 , p=0.0797  , df=6\n",
            "parameter F test:         F=1.7004  , p=0.1337  , df_denom=70, df_num=6\n",
            "\n",
            "Granger Causality\n",
            "number of lags (no zero) 7\n",
            "ssr based F test:         F=1.5352  , p=0.1706  , df_denom=67, df_num=7\n",
            "ssr based chi2 test:   chi2=13.1519 , p=0.0685  , df=7\n",
            "likelihood ratio test: chi2=12.1980 , p=0.0942  , df=7\n",
            "parameter F test:         F=1.5352  , p=0.1706  , df_denom=67, df_num=7\n",
            "\n",
            "Granger Causality\n",
            "number of lags (no zero) 8\n",
            "ssr based F test:         F=1.3272  , p=0.2464  , df_denom=64, df_num=8\n",
            "ssr based chi2 test:   chi2=13.4384 , p=0.0976  , df=8\n",
            "likelihood ratio test: chi2=12.4334 , p=0.1329  , df=8\n",
            "parameter F test:         F=1.3272  , p=0.2464  , df_denom=64, df_num=8\n",
            "\n",
            "Granger Causality\n",
            "number of lags (no zero) 9\n",
            "ssr based F test:         F=1.1743  , p=0.3275  , df_denom=61, df_num=9\n",
            "ssr based chi2 test:   chi2=13.8607 , p=0.1274  , df=9\n",
            "likelihood ratio test: chi2=12.7828 , p=0.1727  , df=9\n",
            "parameter F test:         F=1.1743  , p=0.3275  , df_denom=61, df_num=9\n",
            "\n",
            "Granger Causality\n",
            "number of lags (no zero) 10\n",
            "ssr based F test:         F=1.0741  , p=0.3967  , df_denom=58, df_num=10\n",
            "ssr based chi2 test:   chi2=14.6295 , p=0.1462  , df=10\n",
            "likelihood ratio test: chi2=13.4220 , p=0.2010  , df=10\n",
            "parameter F test:         F=1.0741  , p=0.3967  , df_denom=58, df_num=10\n",
            "\n",
            "Granger Causality\n",
            "number of lags (no zero) 11\n",
            "ssr based F test:         F=0.9989  , p=0.4593  , df_denom=55, df_num=11\n",
            "ssr based chi2 test:   chi2=15.5834 , p=0.1573  , df=11\n",
            "likelihood ratio test: chi2=14.2073 , p=0.2217  , df=11\n",
            "parameter F test:         F=0.9989  , p=0.4593  , df_denom=55, df_num=11\n",
            "\n",
            "Granger Causality\n",
            "number of lags (no zero) 12\n",
            "ssr based F test:         F=0.9622  , p=0.4956  , df_denom=52, df_num=12\n",
            "ssr based chi2 test:   chi2=17.0981 , p=0.1459  , df=12\n",
            "likelihood ratio test: chi2=15.4410 , p=0.2182  , df=12\n",
            "parameter F test:         F=0.9622  , p=0.4956  , df_denom=52, df_num=12\n",
            "\n",
            "Granger Causality\n",
            "number of lags (no zero) 13\n",
            "ssr based F test:         F=1.2640  , p=0.2665  , df_denom=49, df_num=13\n",
            "ssr based chi2 test:   chi2=25.4872 , p=0.0199  , df=13\n",
            "likelihood ratio test: chi2=21.9792 , p=0.0557  , df=13\n",
            "parameter F test:         F=1.2640  , p=0.2665  , df_denom=49, df_num=13\n",
            "\n",
            "Granger Causality\n",
            "number of lags (no zero) 14\n",
            "ssr based F test:         F=1.2543  , p=0.2719  , df_denom=46, df_num=14\n",
            "ssr based chi2 test:   chi2=28.6299 , p=0.0117  , df=14\n",
            "likelihood ratio test: chi2=24.2503 , p=0.0427  , df=14\n",
            "parameter F test:         F=1.2543  , p=0.2719  , df_denom=46, df_num=14\n",
            "\n",
            "Granger Causality\n",
            "number of lags (no zero) 15\n",
            "ssr based F test:         F=1.1635  , p=0.3349  , df_denom=43, df_num=15\n",
            "ssr based chi2 test:   chi2=30.0341 , p=0.0118  , df=15\n",
            "likelihood ratio test: chi2=25.2084 , p=0.0472  , df=15\n",
            "parameter F test:         F=1.1635  , p=0.3349  , df_denom=43, df_num=15\n"
          ],
          "name": "stdout"
        }
      ]
    },
    {
      "cell_type": "markdown",
      "metadata": {
        "id": "YKgHOWsxu_Aa"
      },
      "source": [
        ""
      ]
    },
    {
      "cell_type": "code",
      "metadata": {
        "id": "pmRh-9Yp07bd"
      },
      "source": [
        "Lagged2 = mean['DJIA_Close_stand'].shift(2)\r\n",
        "Lagged1 = mean['DJIA_Close_stand'].shift(1)\r\n",
        "Lagged = [Lagged1]\r\n",
        "Lagged = pd.DataFrame(Lagged)\r\n",
        "Lagged = pd.DataFrame.transpose(Lagged)\r\n",
        "mean['Lagged'] = Lagged\r\n",
        "mean['Lagged2'] = Lagged2"
      ],
      "execution_count": null,
      "outputs": []
    },
    {
      "cell_type": "code",
      "metadata": {
        "id": "Gx-Z3kTT-8Ku"
      },
      "source": [
        "Yesterday_mean2 = mean['Mean_STAND'].shift(2)\r\n",
        "Yesterday_mean = mean['Mean_STAND'].shift(1)\r\n",
        "mean['MeanYesterday'] = Yesterday_mean\r\n",
        "mean['MeanYesterday2'] = Yesterday_mean2"
      ],
      "execution_count": null,
      "outputs": []
    },
    {
      "cell_type": "markdown",
      "metadata": {
        "id": "sHKtxUce1mkE"
      },
      "source": [
        "## RNN MODEL SENTIMENT MODEL\n",
        "\n"
      ]
    },
    {
      "cell_type": "code",
      "metadata": {
        "id": "zLKNP7SDc3CS"
      },
      "source": [
        "X = [mean['MeanYesterday'], mean['MeanYesterday2'], mean['Lagged'], mean['Lagged2']]\r\n",
        "X = pd.DataFrame(X)\r\n",
        "X = pd.DataFrame.transpose(X)\r\n"
      ],
      "execution_count": null,
      "outputs": []
    },
    {
      "cell_type": "code",
      "metadata": {
        "id": "ptos1S8skjLX"
      },
      "source": [
        "Y = mean['DJIA_Close_stand']"
      ],
      "execution_count": null,
      "outputs": []
    },
    {
      "cell_type": "code",
      "metadata": {
        "id": "3KYLSB6uetxb"
      },
      "source": [
        "X = X.drop(0, axis = 0)\r\n",
        "X = X.drop(1, axis = 0)\r\n",
        "Y = Y.drop(0, axis = 0)\r\n",
        "Y = Y.drop(1, axis = 0)"
      ],
      "execution_count": null,
      "outputs": []
    },
    {
      "cell_type": "code",
      "metadata": {
        "id": "EhSsiQjHWlxN"
      },
      "source": [
        "X_train, X_test = X[0:int(len(X)*0.8)], X[int(len(X)*0.8):]\r\n",
        "Y_train, Y_test = Y[0:int(len(Y)*0.8)], Y[int(len(Y)*0.8):]"
      ],
      "execution_count": null,
      "outputs": []
    },
    {
      "cell_type": "code",
      "metadata": {
        "id": "gnOHuu-Qd-7O"
      },
      "source": [
        "Y_train = np.array(Y_train)\r\n",
        "Y_test = np.array(Y_test)"
      ],
      "execution_count": null,
      "outputs": []
    },
    {
      "cell_type": "code",
      "metadata": {
        "id": "bF-4311QVf4k"
      },
      "source": [
        "X_train = np.array(X_train)\r\n",
        "X_train = np.reshape(X_train, (X_train.shape[0],X_train.shape[1],1))\r\n",
        "X_test = np.array(X_test)\r\n",
        "X_test = np.reshape(X_test, (X_test.shape[0], X_test.shape[1], 1))"
      ],
      "execution_count": null,
      "outputs": []
    },
    {
      "cell_type": "code",
      "metadata": {
        "id": "AHwl5H4by9CI"
      },
      "source": [
        "from keras.models import Sequential\n",
        "from keras.layers import Flatten, Dense, LSTM\n",
        "model = Sequential()\n",
        "model.add(LSTM(units=50, return_sequences=True,input_shape=(X_train.shape[1],1)))\n",
        "model.add(LSTM(units=25, return_sequences=False))\n",
        "model.add(Dense(units=25))\n",
        "model.add(Dense(units=1))\n",
        "\n",
        "model.compile(optimizer='adam', loss='mean_squared_error')\n"
      ],
      "execution_count": null,
      "outputs": []
    },
    {
      "cell_type": "code",
      "metadata": {
        "id": "AUJdFPrB01Ix",
        "colab": {
          "base_uri": "https://localhost:8080/"
        },
        "outputId": "9568f03e-9c7d-4b10-8346-633136fae35a"
      },
      "source": [
        "model.fit(X_train, Y_train, epochs = 10, batch_size = 1)"
      ],
      "execution_count": null,
      "outputs": [
        {
          "output_type": "stream",
          "text": [
            "Epoch 1/10\n",
            "69/69 [==============================] - 3s 3ms/step - loss: 0.8248\n",
            "Epoch 2/10\n",
            "69/69 [==============================] - 0s 3ms/step - loss: 0.2215\n",
            "Epoch 3/10\n",
            "69/69 [==============================] - 0s 4ms/step - loss: 0.1606\n",
            "Epoch 4/10\n",
            "69/69 [==============================] - 0s 3ms/step - loss: 0.1050\n",
            "Epoch 5/10\n",
            "69/69 [==============================] - 0s 3ms/step - loss: 0.0849\n",
            "Epoch 6/10\n",
            "69/69 [==============================] - 0s 3ms/step - loss: 0.0739\n",
            "Epoch 7/10\n",
            "69/69 [==============================] - 0s 3ms/step - loss: 0.0979\n",
            "Epoch 8/10\n",
            "69/69 [==============================] - 0s 3ms/step - loss: 0.0779\n",
            "Epoch 9/10\n",
            "69/69 [==============================] - 0s 3ms/step - loss: 0.0635\n",
            "Epoch 10/10\n",
            "69/69 [==============================] - 0s 3ms/step - loss: 0.0779\n"
          ],
          "name": "stdout"
        },
        {
          "output_type": "execute_result",
          "data": {
            "text/plain": [
              "<tensorflow.python.keras.callbacks.History at 0x7f9ae4a4e828>"
            ]
          },
          "metadata": {
            "tags": []
          },
          "execution_count": 48
        }
      ]
    },
    {
      "cell_type": "code",
      "metadata": {
        "id": "dH7_9a8ChZAJ"
      },
      "source": [
        "predictions = model.predict(X_test)"
      ],
      "execution_count": null,
      "outputs": []
    },
    {
      "cell_type": "code",
      "metadata": {
        "id": "CV9ogwSneM9n",
        "colab": {
          "base_uri": "https://localhost:8080/",
          "height": 295
        },
        "outputId": "f8f7e2e1-b027-4945-94cd-64acc50254bb"
      },
      "source": [
        "import matplotlib.pyplot as plt\r\n",
        "test_set_range = mean[int(len(mean)*0.8):].index\r\n",
        "plt.plot(test_set_range, predictions, color='blue', marker='o', linestyle='dashed',label='Predicted Price')\r\n",
        "plt.plot(test_set_range, Y_test, color='red', label='Actual Price')\r\n",
        "plt.title('Stock Prices Prediction')\r\n",
        "plt.xlabel('days')\r\n",
        "plt.ylabel('Prices')\r\n",
        "plt.legend()\r\n",
        "plt.show()"
      ],
      "execution_count": null,
      "outputs": [
        {
          "output_type": "display_data",
          "data": {
            "image/png": "[encoded data removed]",
            "text/plain": [
              "<Figure size 432x288 with 1 Axes>"
            ]
          },
          "metadata": {
            "tags": [],
            "needs_background": "light"
          }
        }
      ]
    },
    {
      "cell_type": "code",
      "metadata": {
        "colab": {
          "base_uri": "https://localhost:8080/"
        },
        "id": "i-nTSwdDpe2B",
        "outputId": "ba98698a-092e-404b-dd5a-3f137519448c"
      },
      "source": [
        "sklearn.metrics.mean_squared_error(Y_test, predictions)"
      ],
      "execution_count": null,
      "outputs": [
        {
          "output_type": "execute_result",
          "data": {
            "text/plain": [
              "0.012883670452699735"
            ]
          },
          "metadata": {
            "tags": []
          },
          "execution_count": 51
        }
      ]
    },
    {
      "cell_type": "markdown",
      "metadata": {
        "id": "FuZm8ijAiF3n"
      },
      "source": [
        "RNN MODEL BASELINE MODEL"
      ]
    },
    {
      "cell_type": "code",
      "metadata": {
        "id": "gRoeYvoliIGX"
      },
      "source": [
        "X = [mean['Lagged'], mean['Lagged2']]\r\n",
        "X = pd.DataFrame(X)\r\n",
        "X = pd.DataFrame.transpose(X)"
      ],
      "execution_count": null,
      "outputs": []
    },
    {
      "cell_type": "code",
      "metadata": {
        "id": "T72FucigiIGZ"
      },
      "source": [
        "Y = mean['DJIA_Close_stand']"
      ],
      "execution_count": null,
      "outputs": []
    },
    {
      "cell_type": "code",
      "metadata": {
        "id": "zIjhhxBEiIGa"
      },
      "source": [
        "X = X.drop(0, axis = 0)\r\n",
        "X = X.drop(1, axis = 0)\r\n",
        "Y = Y.drop(0, axis = 0)\r\n",
        "Y = Y.drop(1, axis = 0)"
      ],
      "execution_count": null,
      "outputs": []
    },
    {
      "cell_type": "code",
      "metadata": {
        "id": "7fFSyLz-iIGc"
      },
      "source": [
        "X_train, X_test = X[0:int(len(X)*0.8)], X[int(len(X)*0.8):]\r\n",
        "Y_train, Y_test = Y[0:int(len(Y)*0.8)], Y[int(len(Y)*0.8):]"
      ],
      "execution_count": null,
      "outputs": []
    },
    {
      "cell_type": "code",
      "metadata": {
        "id": "ia6gMuVMiIGe"
      },
      "source": [
        "Y_train = np.array(Y_train)\r\n",
        "Y_test = np.array(Y_test)"
      ],
      "execution_count": null,
      "outputs": []
    },
    {
      "cell_type": "code",
      "metadata": {
        "id": "pcORS3NZiIGf"
      },
      "source": [
        "X_train = np.array(X_train)\r\n",
        "X_train = np.reshape(X_train, (X_train.shape[0],X_train.shape[1],1))\r\n",
        "X_test = np.array(X_test)\r\n",
        "X_test = np.reshape(X_test, (X_test.shape[0], X_test.shape[1], 1))"
      ],
      "execution_count": null,
      "outputs": []
    },
    {
      "cell_type": "code",
      "metadata": {
        "id": "BAwMW0p5iIGg"
      },
      "source": [
        "from keras.models import Sequential\n",
        "from keras.layers import Flatten, Dense, LSTM\n",
        "model = Sequential()\n",
        "model.add(LSTM(units=50, return_sequences=True,input_shape=(X_train.shape[1],1)))\n",
        "model.add(LSTM(units=25, return_sequences=False))\n",
        "model.add(Dense(units=25))\n",
        "model.add(Dense(units=1))\n",
        "\n",
        "model.compile(optimizer = 'rmsprop', loss='mean_squared_error')\n"
      ],
      "execution_count": null,
      "outputs": []
    },
    {
      "cell_type": "code",
      "metadata": {
        "colab": {
          "base_uri": "https://localhost:8080/"
        },
        "id": "PRAKainliIGi",
        "outputId": "c21ec1a3-bc00-4a15-bfc3-8e3a2c150346"
      },
      "source": [
        "model.fit(X_train, Y_train, epochs = 10, batch_size = 1)"
      ],
      "execution_count": null,
      "outputs": [
        {
          "output_type": "stream",
          "text": [
            "Epoch 1/10\n",
            "69/69 [==============================] - 3s 2ms/step - loss: 0.7469\n",
            "Epoch 2/10\n",
            "69/69 [==============================] - 0s 2ms/step - loss: 0.0470\n",
            "Epoch 3/10\n",
            "69/69 [==============================] - 0s 2ms/step - loss: 0.0488\n",
            "Epoch 4/10\n",
            "69/69 [==============================] - 0s 2ms/step - loss: 0.0549\n",
            "Epoch 5/10\n",
            "69/69 [==============================] - 0s 3ms/step - loss: 0.0695\n",
            "Epoch 6/10\n",
            "69/69 [==============================] - 0s 2ms/step - loss: 0.0673\n",
            "Epoch 7/10\n",
            "69/69 [==============================] - 0s 3ms/step - loss: 0.0500\n",
            "Epoch 8/10\n",
            "69/69 [==============================] - 0s 3ms/step - loss: 0.0452\n",
            "Epoch 9/10\n",
            "69/69 [==============================] - 0s 2ms/step - loss: 0.0466\n",
            "Epoch 10/10\n",
            "69/69 [==============================] - 0s 3ms/step - loss: 0.0539\n"
          ],
          "name": "stdout"
        },
        {
          "output_type": "execute_result",
          "data": {
            "text/plain": [
              "<tensorflow.python.keras.callbacks.History at 0x7f9ae13c9208>"
            ]
          },
          "metadata": {
            "tags": []
          },
          "execution_count": 59
        }
      ]
    },
    {
      "cell_type": "code",
      "metadata": {
        "id": "UML2ZF6qiIGn"
      },
      "source": [
        "predictions = model.predict(X_test)"
      ],
      "execution_count": null,
      "outputs": []
    },
    {
      "cell_type": "code",
      "metadata": {
        "colab": {
          "base_uri": "https://localhost:8080/",
          "height": 295
        },
        "id": "S-m-xoENiLwI",
        "outputId": "bdcc46e4-fa14-443f-cdad-59ceb3caca79"
      },
      "source": [
        "test_set_range = mean[int(len(mean)*0.8):].index\r\n",
        "plt.plot(test_set_range, predictions, color='blue', marker='o', linestyle='dashed',label='Predicted Price')\r\n",
        "plt.plot(test_set_range, Y_test, color='red', label='Actual Price')\r\n",
        "plt.title('Stock Prices Prediction')\r\n",
        "plt.xlabel('days')\r\n",
        "plt.ylabel('Prices')\r\n",
        "plt.legend()\r\n",
        "plt.show()"
      ],
      "execution_count": null,
      "outputs": [
        {
          "output_type": "display_data",
          "data": {
            "image/png": "[encoded data removed]",
            "text/plain": [
              "<Figure size 432x288 with 1 Axes>"
            ]
          },
          "metadata": {
            "tags": [],
            "needs_background": "light"
          }
        }
      ]
    },
    {
      "cell_type": "code",
      "metadata": {
        "colab": {
          "base_uri": "https://localhost:8080/"
        },
        "id": "AvhA5KJiiLwJ",
        "outputId": "ff05b2a1-525d-484e-bcb7-35442eb9c5d8"
      },
      "source": [
        "sklearn.metrics.mean_squared_error(Y_test, predictions)"
      ],
      "execution_count": null,
      "outputs": [
        {
          "output_type": "execute_result",
          "data": {
            "text/plain": [
              "0.016487580937762248"
            ]
          },
          "metadata": {
            "tags": []
          },
          "execution_count": 62
        }
      ]
    },
    {
      "cell_type": "markdown",
      "metadata": {
        "id": "DHDAXpozbTha"
      },
      "source": [
        "# Learning Algorithms"
      ]
    },
    {
      "cell_type": "markdown",
      "metadata": {
        "id": "hBArQlPpsVg0"
      },
      "source": [
        "ADDED SENTIMENT MODEL"
      ]
    },
    {
      "cell_type": "code",
      "metadata": {
        "id": "qQTtJCYYxb5B"
      },
      "source": [
        "X = [mean['Lagged'], mean['Lagged2'], mean['MeanYesterday'], mean['MeanYesterday2']]\r\n",
        "X = pd.DataFrame(X)\r\n",
        "X = pd.DataFrame.transpose(X)\r\n",
        "X = X.drop(0, axis = 0)\r\n",
        "X = X.drop(1, axis = 0)\r\n",
        "X = np.array(X)\r\n",
        "Y = pd.DataFrame(mean['Target'])\r\n",
        "Y = Y.drop(0, axis = 0)\r\n",
        "Y = Y.drop(1, axis = 0)\r\n",
        "Y = np.array(Y)\r\n",
        "X_train, X_test = X[0:int(len(X)*0.8)], X[int(len(X)*0.8):]\r\n",
        "Y_train, Y_test = Y[0:int(len(Y)*0.8)], Y[int(len(Y)*0.8):]"
      ],
      "execution_count": 111,
      "outputs": []
    },
    {
      "cell_type": "code",
      "metadata": {
        "id": "Z6dJ8HIZoM1l",
        "colab": {
          "base_uri": "https://localhost:8080/"
        },
        "outputId": "61596aa7-82bb-4618-cc66-a686ccb5663f"
      },
      "source": [
        "#Logistic Regression naive\n",
        "from sklearn.linear_model import LogisticRegression\n",
        "LR = LogisticRegression(random_state=0, solver='lbfgs', multi_class='multinomial').fit(X_train, Y_train)\n",
        "LR.predict(X_test)\n",
        "round(LR.score(X_test,Y_test), 4)\n",
        "\n"
      ],
      "execution_count": 112,
      "outputs": [
        {
          "output_type": "stream",
          "text": [
            "/usr/local/lib/python3.6/dist-packages/sklearn/utils/validation.py:760: DataConversionWarning: A column-vector y was passed when a 1d array was expected. Please change the shape of y to (n_samples, ), for example using ravel().\n",
            "  y = column_or_1d(y, warn=True)\n"
          ],
          "name": "stderr"
        },
        {
          "output_type": "execute_result",
          "data": {
            "text/plain": [
              "0.5556"
            ]
          },
          "metadata": {
            "tags": []
          },
          "execution_count": 112
        }
      ]
    },
    {
      "cell_type": "code",
      "metadata": {
        "id": "vyQP4wxZsAov",
        "colab": {
          "base_uri": "https://localhost:8080/"
        },
        "outputId": "3eac272d-920b-4bbf-baea-68638b4ce2db"
      },
      "source": [
        "#Support Vector Machine naive\n",
        "from sklearn import svm\n",
        "SVM = svm.SVC(decision_function_shape=\"ovo\").fit(X_train, Y_train)\n",
        "SVM.predict(X_test)\n",
        "round(SVM.score(X_test, Y_test), 4)\n",
        "\n"
      ],
      "execution_count": 113,
      "outputs": [
        {
          "output_type": "stream",
          "text": [
            "/usr/local/lib/python3.6/dist-packages/sklearn/utils/validation.py:760: DataConversionWarning: A column-vector y was passed when a 1d array was expected. Please change the shape of y to (n_samples, ), for example using ravel().\n",
            "  y = column_or_1d(y, warn=True)\n"
          ],
          "name": "stderr"
        },
        {
          "output_type": "execute_result",
          "data": {
            "text/plain": [
              "0.5"
            ]
          },
          "metadata": {
            "tags": []
          },
          "execution_count": 113
        }
      ]
    },
    {
      "cell_type": "code",
      "metadata": {
        "id": "5jfvQAgU2qsF",
        "colab": {
          "base_uri": "https://localhost:8080/"
        },
        "outputId": "fedaa0af-c51d-4114-92af-004ebbffede1"
      },
      "source": [
        "#Linear Discriminant Analysis\n",
        "from sklearn.discriminant_analysis import LinearDiscriminantAnalysis\n",
        "model = LinearDiscriminantAnalysis().fit(X_train, Y_train)\n",
        "model.predict(X_test)\n",
        "round(model.score(X_test, Y_test), 4)"
      ],
      "execution_count": 114,
      "outputs": [
        {
          "output_type": "stream",
          "text": [
            "/usr/local/lib/python3.6/dist-packages/sklearn/utils/validation.py:760: DataConversionWarning: A column-vector y was passed when a 1d array was expected. Please change the shape of y to (n_samples, ), for example using ravel().\n",
            "  y = column_or_1d(y, warn=True)\n"
          ],
          "name": "stderr"
        },
        {
          "output_type": "execute_result",
          "data": {
            "text/plain": [
              "0.5556"
            ]
          },
          "metadata": {
            "tags": []
          },
          "execution_count": 114
        }
      ]
    },
    {
      "cell_type": "markdown",
      "metadata": {
        "id": "jZudLHVG10-E"
      },
      "source": [
        "Neural Network Baseline model"
      ]
    },
    {
      "cell_type": "code",
      "metadata": {
        "id": "8uLdEtPh10-d"
      },
      "source": [
        "from keras.models import Sequential\r\n",
        "from keras.layers import Flatten, Dense \r\n",
        "model = Sequential()\r\n",
        "model.add(Dense(4, activation = 'relu'))\r\n",
        "model.add(Dense(2, activation = 'relu'))\r\n",
        "model.add(Dense(1, activation = 'sigmoid'))\r\n",
        "\r\n",
        "model.compile(optimizer='Adam',\r\n",
        "              loss='binary_crossentropy',\r\n",
        "              metrics=['accuracy'])"
      ],
      "execution_count": 115,
      "outputs": []
    },
    {
      "cell_type": "code",
      "metadata": {
        "colab": {
          "base_uri": "https://localhost:8080/"
        },
        "id": "WCIQJtPS10-e",
        "outputId": "2e5a82f7-a9d7-4e7e-f4e7-ee9e4d6b9826"
      },
      "source": [
        "model.fit(X_train, Y_train, epochs = 10, batch_size = 1)"
      ],
      "execution_count": 116,
      "outputs": [
        {
          "output_type": "stream",
          "text": [
            "Epoch 1/10\n",
            "69/69 [==============================] - 0s 916us/step - loss: 0.6859 - accuracy: 0.6547\n",
            "Epoch 2/10\n",
            "69/69 [==============================] - 0s 893us/step - loss: 0.6952 - accuracy: 0.5756\n",
            "Epoch 3/10\n",
            "69/69 [==============================] - 0s 937us/step - loss: 0.6750 - accuracy: 0.5854\n",
            "Epoch 4/10\n",
            "69/69 [==============================] - 0s 890us/step - loss: 0.6828 - accuracy: 0.5994\n",
            "Epoch 5/10\n",
            "69/69 [==============================] - 0s 1ms/step - loss: 0.6947 - accuracy: 0.4564\n",
            "Epoch 6/10\n",
            "69/69 [==============================] - 0s 898us/step - loss: 0.6789 - accuracy: 0.6489\n",
            "Epoch 7/10\n",
            "69/69 [==============================] - 0s 933us/step - loss: 0.6673 - accuracy: 0.5775\n",
            "Epoch 8/10\n",
            "69/69 [==============================] - 0s 1ms/step - loss: 0.6675 - accuracy: 0.6288\n",
            "Epoch 9/10\n",
            "69/69 [==============================] - 0s 1ms/step - loss: 0.6861 - accuracy: 0.5766\n",
            "Epoch 10/10\n",
            "69/69 [==============================] - 0s 946us/step - loss: 0.6888 - accuracy: 0.5066\n"
          ],
          "name": "stdout"
        },
        {
          "output_type": "execute_result",
          "data": {
            "text/plain": [
              "<tensorflow.python.keras.callbacks.History at 0x7f9ad43c8208>"
            ]
          },
          "metadata": {
            "tags": []
          },
          "execution_count": 116
        }
      ]
    },
    {
      "cell_type": "code",
      "metadata": {
        "colab": {
          "base_uri": "https://localhost:8080/"
        },
        "id": "_c06b4Un10-g",
        "outputId": "13935ac8-699d-4cae-9210-03cd9f2a7601"
      },
      "source": [
        "test_loss, test_acc = model.evaluate(X_test, Y_test)\r\n",
        "test_acc"
      ],
      "execution_count": 117,
      "outputs": [
        {
          "output_type": "stream",
          "text": [
            "WARNING:tensorflow:5 out of the last 5 calls to <function Model.make_test_function.<locals>.test_function at 0x7f9ad42c38c8> triggered tf.function retracing. Tracing is expensive and the excessive number of tracings could be due to (1) creating @tf.function repeatedly in a loop, (2) passing tensors with different shapes, (3) passing Python objects instead of tensors. For (1), please define your @tf.function outside of the loop. For (2), @tf.function has experimental_relax_shapes=True option that relaxes argument shapes that can avoid unnecessary retracing. For (3), please refer to https://www.tensorflow.org/guide/function#controlling_retracing and https://www.tensorflow.org/api_docs/python/tf/function for  more details.\n",
            "1/1 [==============================] - 0s 120ms/step - loss: 0.6433 - accuracy: 0.7222\n"
          ],
          "name": "stdout"
        },
        {
          "output_type": "execute_result",
          "data": {
            "text/plain": [
              "0.7222222089767456"
            ]
          },
          "metadata": {
            "tags": []
          },
          "execution_count": 117
        }
      ]
    },
    {
      "cell_type": "markdown",
      "metadata": {
        "id": "el_0DOEisTdu"
      },
      "source": [
        "BASELINE MODEL"
      ]
    },
    {
      "cell_type": "code",
      "metadata": {
        "id": "4JRm6DSpqEdh"
      },
      "source": [
        "X = [mean['Lagged'], mean['Lagged2']]\r\n",
        "X = pd.DataFrame(X)\r\n",
        "X = pd.DataFrame.transpose(X)\r\n",
        "X = X.drop(0, axis = 0)\r\n",
        "X = X.drop(1, axis = 0)\r\n",
        "X = np.array(X)\r\n",
        "Y = pd.DataFrame(mean['Target'])\r\n",
        "Y = Y.drop(0, axis = 0)\r\n",
        "Y = Y.drop(1, axis = 0)\r\n",
        "Y = np.array(Y)\r\n",
        "X_train, X_test = X[0:int(len(X)*0.8)], X[int(len(X)*0.8):]\r\n",
        "Y_train, Y_test = Y[0:int(len(Y)*0.8)], Y[int(len(Y)*0.8):]\r\n"
      ],
      "execution_count": 118,
      "outputs": []
    },
    {
      "cell_type": "code",
      "metadata": {
        "colab": {
          "base_uri": "https://localhost:8080/"
        },
        "id": "Y0jETXa0sSFz",
        "outputId": "a03258aa-9e7a-4759-edce-a78e06cbea09"
      },
      "source": [
        "#Logistic Regression naive\n",
        "from sklearn.linear_model import LogisticRegression\n",
        "LR = LogisticRegression(random_state=0, solver='lbfgs', multi_class='multinomial').fit(X_train, Y_train)\n",
        "LR.predict(X_test)\n",
        "round(LR.score(X_test,Y_test), 4)\n",
        "\n"
      ],
      "execution_count": 119,
      "outputs": [
        {
          "output_type": "stream",
          "text": [
            "/usr/local/lib/python3.6/dist-packages/sklearn/utils/validation.py:760: DataConversionWarning: A column-vector y was passed when a 1d array was expected. Please change the shape of y to (n_samples, ), for example using ravel().\n",
            "  y = column_or_1d(y, warn=True)\n"
          ],
          "name": "stderr"
        },
        {
          "output_type": "execute_result",
          "data": {
            "text/plain": [
              "0.6111"
            ]
          },
          "metadata": {
            "tags": []
          },
          "execution_count": 119
        }
      ]
    },
    {
      "cell_type": "code",
      "metadata": {
        "colab": {
          "base_uri": "https://localhost:8080/"
        },
        "id": "HH49io6rsSGT",
        "outputId": "f03bd188-df48-4741-ff4a-ea2e1105957c"
      },
      "source": [
        "#Support Vector Machine naive\n",
        "from sklearn import svm\n",
        "SVM = svm.SVC(decision_function_shape=\"ovo\").fit(X_train, Y_train)\n",
        "SVM.predict(X_test)\n",
        "round(SVM.score(X_test, Y_test), 4)\n",
        "\n"
      ],
      "execution_count": 120,
      "outputs": [
        {
          "output_type": "stream",
          "text": [
            "/usr/local/lib/python3.6/dist-packages/sklearn/utils/validation.py:760: DataConversionWarning: A column-vector y was passed when a 1d array was expected. Please change the shape of y to (n_samples, ), for example using ravel().\n",
            "  y = column_or_1d(y, warn=True)\n"
          ],
          "name": "stderr"
        },
        {
          "output_type": "execute_result",
          "data": {
            "text/plain": [
              "0.5556"
            ]
          },
          "metadata": {
            "tags": []
          },
          "execution_count": 120
        }
      ]
    },
    {
      "cell_type": "code",
      "metadata": {
        "colab": {
          "base_uri": "https://localhost:8080/"
        },
        "id": "vAVaMb_ZsSGU",
        "outputId": "bfc18e0c-a630-4867-a617-8a9e50caba2e"
      },
      "source": [
        "#Linear Discriminant Analysis\n",
        "from sklearn.discriminant_analysis import LinearDiscriminantAnalysis\n",
        "model = LinearDiscriminantAnalysis().fit(X_train, Y_train)\n",
        "predictions = model.predict(X_test)\n",
        "predictions\n",
        "round(model.score(X_test, Y_test), 4)"
      ],
      "execution_count": 121,
      "outputs": [
        {
          "output_type": "stream",
          "text": [
            "/usr/local/lib/python3.6/dist-packages/sklearn/utils/validation.py:760: DataConversionWarning: A column-vector y was passed when a 1d array was expected. Please change the shape of y to (n_samples, ), for example using ravel().\n",
            "  y = column_or_1d(y, warn=True)\n"
          ],
          "name": "stderr"
        },
        {
          "output_type": "execute_result",
          "data": {
            "text/plain": [
              "0.5556"
            ]
          },
          "metadata": {
            "tags": []
          },
          "execution_count": 121
        }
      ]
    },
    {
      "cell_type": "markdown",
      "metadata": {
        "id": "Cy4ZAC-C1vXa"
      },
      "source": [
        "Neural Network Baseline model"
      ]
    },
    {
      "cell_type": "code",
      "metadata": {
        "id": "nsjM1-e5skW_"
      },
      "source": [
        "from keras.models import Sequential\r\n",
        "from keras.layers import Flatten, Dense \r\n",
        "model = Sequential()\r\n",
        "model.add(Dense(4, activation = 'relu'))\r\n",
        "model.add(Dense(2, activation = 'relu'))\r\n",
        "model.add(Dense(1, activation = 'sigmoid'))\r\n",
        "\r\n",
        "model.compile(optimizer='Adam',\r\n",
        "              loss='binary_crossentropy',\r\n",
        "              metrics=['accuracy'])"
      ],
      "execution_count": 122,
      "outputs": []
    },
    {
      "cell_type": "code",
      "metadata": {
        "colab": {
          "base_uri": "https://localhost:8080/"
        },
        "id": "qp4dugfD1lrm",
        "outputId": "1efb8fdf-d59c-44a4-deab-6a13c3716785"
      },
      "source": [
        "model.fit(X_train, Y_train, epochs = 10, batch_size = 1)"
      ],
      "execution_count": 123,
      "outputs": [
        {
          "output_type": "stream",
          "text": [
            "Epoch 1/10\n",
            "69/69 [==============================] - 0s 1ms/step - loss: 0.6932 - accuracy: 0.4529\n",
            "Epoch 2/10\n",
            "69/69 [==============================] - 0s 1ms/step - loss: 0.6932 - accuracy: 0.5236\n",
            "Epoch 3/10\n",
            "69/69 [==============================] - 0s 932us/step - loss: 0.6934 - accuracy: 0.4683\n",
            "Epoch 4/10\n",
            "69/69 [==============================] - 0s 900us/step - loss: 0.6924 - accuracy: 0.5839\n",
            "Epoch 5/10\n",
            "69/69 [==============================] - 0s 899us/step - loss: 0.6937 - accuracy: 0.4720\n",
            "Epoch 6/10\n",
            "69/69 [==============================] - 0s 948us/step - loss: 0.6936 - accuracy: 0.4778\n",
            "Epoch 7/10\n",
            "69/69 [==============================] - 0s 897us/step - loss: 0.6940 - accuracy: 0.4598\n",
            "Epoch 8/10\n",
            "69/69 [==============================] - 0s 973us/step - loss: 0.6917 - accuracy: 0.5876\n",
            "Epoch 9/10\n",
            "69/69 [==============================] - 0s 906us/step - loss: 0.6931 - accuracy: 0.5061\n",
            "Epoch 10/10\n",
            "69/69 [==============================] - 0s 962us/step - loss: 0.6909 - accuracy: 0.6042\n"
          ],
          "name": "stdout"
        },
        {
          "output_type": "execute_result",
          "data": {
            "text/plain": [
              "<tensorflow.python.keras.callbacks.History at 0x7f9ad324b1d0>"
            ]
          },
          "metadata": {
            "tags": []
          },
          "execution_count": 123
        }
      ]
    },
    {
      "cell_type": "code",
      "metadata": {
        "colab": {
          "base_uri": "https://localhost:8080/"
        },
        "id": "I8b-S-Zx1m1c",
        "outputId": "68264fc1-add2-4c87-e452-0032eefaf58d"
      },
      "source": [
        "test_loss, test_acc = model.evaluate(X_test, Y_test)\r\n",
        "test_acc"
      ],
      "execution_count": 124,
      "outputs": [
        {
          "output_type": "stream",
          "text": [
            "WARNING:tensorflow:6 out of the last 6 calls to <function Model.make_test_function.<locals>.test_function at 0x7f9ad325f730> triggered tf.function retracing. Tracing is expensive and the excessive number of tracings could be due to (1) creating @tf.function repeatedly in a loop, (2) passing tensors with different shapes, (3) passing Python objects instead of tensors. For (1), please define your @tf.function outside of the loop. For (2), @tf.function has experimental_relax_shapes=True option that relaxes argument shapes that can avoid unnecessary retracing. For (3), please refer to https://www.tensorflow.org/guide/function#controlling_retracing and https://www.tensorflow.org/api_docs/python/tf/function for  more details.\n",
            "1/1 [==============================] - 0s 120ms/step - loss: 0.6891 - accuracy: 0.6667\n"
          ],
          "name": "stdout"
        },
        {
          "output_type": "execute_result",
          "data": {
            "text/plain": [
              "0.6666666865348816"
            ]
          },
          "metadata": {
            "tags": []
          },
          "execution_count": 124
        }
      ]
    },
    {
      "cell_type": "code",
      "metadata": {
        "id": "lJmVmSfK2pHU"
      },
      "source": [
        ""
      ],
      "execution_count": null,
      "outputs": []
    }
  ]
}